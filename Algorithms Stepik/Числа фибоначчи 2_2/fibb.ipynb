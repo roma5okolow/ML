{
 "cells": [
  {
   "cell_type": "code",
   "execution_count": 1,
   "metadata": {},
   "outputs": [
    {
     "name": "stdout",
     "output_type": "stream",
     "text": [
      "Collecting git+https://github.com/superbobry/rcviz"
     ]
    },
    {
     "name": "stderr",
     "output_type": "stream",
     "text": [
      "  Running command git clone --filter=blob:none -q https://github.com/superbobry/rcviz 'C:\\Users\\Roman\\AppData\\Local\\Temp\\pip-req-build-uzm5s1_w'\n",
      "    ERROR: Command errored out with exit status 1:"
     ]
    },
    {
     "name": "stdout",
     "output_type": "stream",
     "text": [
      "\n",
      "  Cloning https://github.com/superbobry/rcviz to c:\\users\\roman\\appdata\\local\\temp\\pip-req-build-uzm5s1_w\n",
      "  Resolved https://github.com/superbobry/rcviz to commit d1720afde6f4f12eb5e70d63f4e04253e39a7232\n",
      "  Preparing metadata (setup.py): started\n",
      "  Preparing metadata (setup.py): finished with status 'done'\n",
      "Collecting pygraphviz\n",
      "  Downloading pygraphviz-1.9.zip (119 kB)\n",
      "  Preparing metadata (setup.py): started\n",
      "  Preparing metadata (setup.py): finished with status 'done'\n",
      "Using legacy 'setup.py install' for rcviz, since package 'wheel' is not installed.\n",
      "Using legacy 'setup.py install' for pygraphviz, since package 'wheel' is not installed.\n",
      "Installing collected packages: pygraphviz, rcviz\n",
      "    Running setup.py install for pygraphviz: started\n",
      "    Running setup.py install for pygraphviz: finished with status 'error'\n"
     ]
    },
    {
     "name": "stderr",
     "output_type": "stream",
     "text": [
      "\n",
      "     command: 'C:\\Users\\Roman\\AppData\\Local\\Programs\\Python\\Python39\\python.exe' -u -c 'import io, os, sys, setuptools, tokenize; sys.argv[0] = '\"'\"'C:\\\\Users\\\\Roman\\\\AppData\\\\Local\\\\Temp\\\\pip-install-cekhhdwu\\\\pygraphviz_ab0f4cacc38e4b7ebdb53ec36ae9b9ca\\\\setup.py'\"'\"'; __file__='\"'\"'C:\\\\Users\\\\Roman\\\\AppData\\\\Local\\\\Temp\\\\pip-install-cekhhdwu\\\\pygraphviz_ab0f4cacc38e4b7ebdb53ec36ae9b9ca\\\\setup.py'\"'\"';f = getattr(tokenize, '\"'\"'open'\"'\"', open)(__file__) if os.path.exists(__file__) else io.StringIO('\"'\"'from setuptools import setup; setup()'\"'\"');code = f.read().replace('\"'\"'\\r\\n'\"'\"', '\"'\"'\\n'\"'\"');f.close();exec(compile(code, __file__, '\"'\"'exec'\"'\"'))' install --record 'C:\\Users\\Roman\\AppData\\Local\\Temp\\pip-record-fjh0gs2n\\install-record.txt' --single-version-externally-managed --compile --install-headers 'C:\\Users\\Roman\\AppData\\Local\\Programs\\Python\\Python39\\Include\\pygraphviz'\n",
      "         cwd: C:\\Users\\Roman\\AppData\\Local\\Temp\\pip-install-cekhhdwu\\pygraphviz_ab0f4cacc38e4b7ebdb53ec36ae9b9ca\\\n",
      "    Complete output (48 lines):\n",
      "    running install\n",
      "    running build\n",
      "    running build_py\n",
      "    creating build\n",
      "    creating build\\lib.win-amd64-3.9\n",
      "    creating build\\lib.win-amd64-3.9\\pygraphviz\n",
      "    copying pygraphviz\\agraph.py -> build\\lib.win-amd64-3.9\\pygraphviz\n",
      "    copying pygraphviz\\graphviz.py -> build\\lib.win-amd64-3.9\\pygraphviz\n",
      "    copying pygraphviz\\scraper.py -> build\\lib.win-amd64-3.9\\pygraphviz\n",
      "    copying pygraphviz\\testing.py -> build\\lib.win-amd64-3.9\\pygraphviz\n",
      "    copying pygraphviz\\__init__.py -> build\\lib.win-amd64-3.9\\pygraphviz\n",
      "    creating build\\lib.win-amd64-3.9\\pygraphviz\\tests\n",
      "    copying pygraphviz\\tests\\test_attribute_defaults.py -> build\\lib.win-amd64-3.9\\pygraphviz\\tests\n",
      "    copying pygraphviz\\tests\\test_clear.py -> build\\lib.win-amd64-3.9\\pygraphviz\\tests\n",
      "    copying pygraphviz\\tests\\test_close.py -> build\\lib.win-amd64-3.9\\pygraphviz\\tests\n",
      "    copying pygraphviz\\tests\\test_drawing.py -> build\\lib.win-amd64-3.9\\pygraphviz\\tests\n",
      "    copying pygraphviz\\tests\\test_edge_attributes.py -> build\\lib.win-amd64-3.9\\pygraphviz\\tests\n",
      "    copying pygraphviz\\tests\\test_graph.py -> build\\lib.win-amd64-3.9\\pygraphviz\\tests\n",
      "    copying pygraphviz\\tests\\test_html.py -> build\\lib.win-amd64-3.9\\pygraphviz\\tests\n",
      "    copying pygraphviz\\tests\\test_layout.py -> build\\lib.win-amd64-3.9\\pygraphviz\\tests\n",
      "    copying pygraphviz\\tests\\test_node_attributes.py -> build\\lib.win-amd64-3.9\\pygraphviz\\tests\n",
      "    copying pygraphviz\\tests\\test_readwrite.py -> build\\lib.win-amd64-3.9\\pygraphviz\\tests\n",
      "    copying pygraphviz\\tests\\test_repr_mimebundle.py -> build\\lib.win-amd64-3.9\\pygraphviz\\tests\n",
      "    copying pygraphviz\\tests\\test_scraper.py -> build\\lib.win-amd64-3.9\\pygraphviz\\tests\n",
      "    copying pygraphviz\\tests\\test_string.py -> build\\lib.win-amd64-3.9\\pygraphviz\\tests\n",
      "    copying pygraphviz\\tests\\test_subgraph.py -> build\\lib.win-amd64-3.9\\pygraphviz\\tests\n",
      "    copying pygraphviz\\tests\\test_unicode.py -> build\\lib.win-amd64-3.9\\pygraphviz\\tests\n",
      "    copying pygraphviz\\tests\\__init__.py -> build\\lib.win-amd64-3.9\\pygraphviz\\tests\n",
      "    running egg_info\n",
      "    writing pygraphviz.egg-info\\PKG-INFO\n",
      "    writing dependency_links to pygraphviz.egg-info\\dependency_links.txt\n",
      "    writing top-level names to pygraphviz.egg-info\\top_level.txt\n",
      "    reading manifest file 'pygraphviz.egg-info\\SOURCES.txt'\n",
      "    reading manifest template 'MANIFEST.in'\n",
      "    warning: no files found matching '*.png' under directory 'doc'\n",
      "    warning: no files found matching '*.txt' under directory 'doc'\n",
      "    warning: no files found matching '*.css' under directory 'doc'\n",
      "    warning: no previously-included files matching '*~' found anywhere in distribution\n",
      "    warning: no previously-included files matching '*.pyc' found anywhere in distribution\n",
      "    warning: no previously-included files matching '.svn' found anywhere in distribution\n",
      "    no previously-included directories found matching 'doc\\build'\n",
      "    adding license file 'LICENSE'\n",
      "    writing manifest file 'pygraphviz.egg-info\\SOURCES.txt'\n",
      "    copying pygraphviz\\graphviz.i -> build\\lib.win-amd64-3.9\\pygraphviz\n",
      "    copying pygraphviz\\graphviz_wrap.c -> build\\lib.win-amd64-3.9\\pygraphviz\n",
      "    running build_ext\n",
      "    building 'pygraphviz._graphviz' extension\n",
      "    error: Microsoft Visual C++ 14.0 or greater is required. Get it with \"Microsoft C++ Build Tools\": https://visualstudio.microsoft.com/visual-cpp-build-tools/\n",
      "    ----------------------------------------\n",
      "ERROR: Command errored out with exit status 1: 'C:\\Users\\Roman\\AppData\\Local\\Programs\\Python\\Python39\\python.exe' -u -c 'import io, os, sys, setuptools, tokenize; sys.argv[0] = '\"'\"'C:\\\\Users\\\\Roman\\\\AppData\\\\Local\\\\Temp\\\\pip-install-cekhhdwu\\\\pygraphviz_ab0f4cacc38e4b7ebdb53ec36ae9b9ca\\\\setup.py'\"'\"'; __file__='\"'\"'C:\\\\Users\\\\Roman\\\\AppData\\\\Local\\\\Temp\\\\pip-install-cekhhdwu\\\\pygraphviz_ab0f4cacc38e4b7ebdb53ec36ae9b9ca\\\\setup.py'\"'\"';f = getattr(tokenize, '\"'\"'open'\"'\"', open)(__file__) if os.path.exists(__file__) else io.StringIO('\"'\"'from setuptools import setup; setup()'\"'\"');code = f.read().replace('\"'\"'\\r\\n'\"'\"', '\"'\"'\\n'\"'\"');f.close();exec(compile(code, __file__, '\"'\"'exec'\"'\"'))' install --record 'C:\\Users\\Roman\\AppData\\Local\\Temp\\pip-record-fjh0gs2n\\install-record.txt' --single-version-externally-managed --compile --install-headers 'C:\\Users\\Roman\\AppData\\Local\\Programs\\Python\\Python39\\Include\\pygraphviz' Check the logs for full command output.\n",
      "WARNING: You are using pip version 21.3.1; however, version 22.0.3 is available.\n",
      "You should consider upgrading via the 'C:\\Users\\Roman\\AppData\\Local\\Programs\\Python\\Python39\\python.exe -m pip install --upgrade pip' command.\n"
     ]
    }
   ],
   "source": [
    "!pip install git+https://github.com/superbobry/rcviz"
   ]
  },
  {
   "cell_type": "code",
   "execution_count": 4,
   "metadata": {},
   "outputs": [],
   "source": [
    "def fib1(n):\n",
    "    assert n >= 0\n",
    "    return n if n <= 1 else fib1(n - 1) + fib1(n - 2)"
   ]
  },
  {
   "cell_type": "code",
   "execution_count": 8,
   "metadata": {},
   "outputs": [],
   "source": [
    "cache = {}"
   ]
  },
  {
   "cell_type": "code",
   "execution_count": 9,
   "metadata": {},
   "outputs": [],
   "source": [
    "def fib2(n):\n",
    "    assert n >= 0\n",
    "    if n not in cache:\n",
    "        cache[n] = n if n <=1 else fib2(n - 1) + fib2(n - 2)\n",
    "    return cache[n]"
   ]
  },
  {
   "cell_type": "code",
   "execution_count": 10,
   "metadata": {},
   "outputs": [],
   "source": [
    "def memo(f):\n",
    "    cache = {}\n",
    "    def inner(n):\n",
    "        if n not in cache:\n",
    "            cache[n] = f[n]\n",
    "        return cache[n]\n",
    "    return inner"
   ]
  },
  {
   "cell_type": "code",
   "execution_count": 11,
   "metadata": {},
   "outputs": [
    {
     "ename": "NameError",
     "evalue": "name 'old_fib1' is not defined",
     "output_type": "error",
     "traceback": [
      "\u001b[1;31m---------------------------------------------------------------------------\u001b[0m",
      "\u001b[1;31mNameError\u001b[0m                                 Traceback (most recent call last)",
      "\u001b[1;32m~\\AppData\\Local\\Temp/ipykernel_10552/3212522307.py\u001b[0m in \u001b[0;36m<module>\u001b[1;34m\u001b[0m\n\u001b[1;32m----> 1\u001b[1;33m \u001b[0mfib1\u001b[0m \u001b[1;33m=\u001b[0m \u001b[0mmemo\u001b[0m\u001b[1;33m(\u001b[0m\u001b[0mold_fib1\u001b[0m\u001b[1;33m)\u001b[0m\u001b[1;33m\u001b[0m\u001b[1;33m\u001b[0m\u001b[0m\n\u001b[0m",
      "\u001b[1;31mNameError\u001b[0m: name 'old_fib1' is not defined"
     ]
    }
   ],
   "source": [
    "fib1 = memo(old_fib1)"
   ]
  },
  {
   "cell_type": "code",
   "execution_count": 12,
   "metadata": {},
   "outputs": [],
   "source": [
    "def fib3(n):\n",
    "    assert n >= 0\n",
    "    f0, f1 = 0, 1\n",
    "    for i in range(n - 1):\n",
    "        f0, f1 = f1, f0 + f1\n",
    "    return f1"
   ]
  },
  {
   "cell_type": "code",
   "execution_count": 16,
   "metadata": {},
   "outputs": [],
   "source": [
    "import time"
   ]
  },
  {
   "cell_type": "code",
   "execution_count": 17,
   "metadata": {},
   "outputs": [],
   "source": [
    "def timed(f, *args, n_iter = 100):\n",
    "    acc = float(\"inf\")\n",
    "    for i in range(n_iter):\n",
    "        t0 = time.perf_counter()\n",
    "        f(*args)\n",
    "        t1 = time.perf_counter()\n",
    "        acc = min(acc, t1 - t0)\n",
    "    return acc"
   ]
  },
  {
   "cell_type": "code",
   "execution_count": 22,
   "metadata": {},
   "outputs": [
    {
     "data": {
      "text/plain": [
       "0.00010720000000219443"
      ]
     },
     "execution_count": 22,
     "metadata": {},
     "output_type": "execute_result"
    }
   ],
   "source": [
    "timed(fib3, 800)"
   ]
  },
  {
   "cell_type": "code",
   "execution_count": 23,
   "metadata": {},
   "outputs": [],
   "source": [
    "from matplotlib import pyplot as plt"
   ]
  },
  {
   "cell_type": "code",
   "execution_count": 24,
   "metadata": {},
   "outputs": [],
   "source": [
    "def compare(fs, args):\n",
    "    for f in fs:\n",
    "        plt.plot(args, [timed(f, arg) for arg in args], label = f.__name__)\n",
    "    plt.legend()\n",
    "    plt.grid(True)"
   ]
  },
  {
   "cell_type": "code",
   "execution_count": 27,
   "metadata": {},
   "outputs": [
    {
     "data": {
      "image/png": "[encoded data removed]",
      "text/plain": [
       "<Figure size 432x288 with 1 Axes>"
      ]
     },
     "metadata": {
      "needs_background": "light"
     },
     "output_type": "display_data"
    }
   ],
   "source": [
    "compare([fib1, fib3], list(range(20)))"
   ]
  },
  {
   "cell_type": "code",
   "execution_count": 29,
   "metadata": {},
   "outputs": [
    {
     "data": {
      "image/png": "[encoded data removed]",
      "text/plain": [
       "<Figure size 432x288 with 1 Axes>"
      ]
     },
     "metadata": {
      "needs_background": "light"
     },
     "output_type": "display_data"
    }
   ],
   "source": [
    "compare([fib3], list(range(20)))"
   ]
  },
  {
   "cell_type": "code",
   "execution_count": null,
   "metadata": {},
   "outputs": [],
   "source": []
  }
 ],
 "metadata": {
  "interpreter": {
   "hash": "66192696da2d2b70fb41e7bd0b6d56aa34ef93b78c1c09f382cf8ad7952253ed"
  },
  "kernelspec": {
   "display_name": "Python 3.9.7 64-bit",
   "language": "python",
   "name": "python3"
  },
  "language_info": {
   "codemirror_mode": {
    "name": "ipython",
    "version": 3
   },
   "file_extension": ".py",
   "mimetype": "text/x-python",
   "name": "python",
   "nbconvert_exporter": "python",
   "pygments_lexer": "ipython3",
   "version": "3.9.7"
  },
  "orig_nbformat": 4
 },
 "nbformat": 4,
 "nbformat_minor": 2
}
