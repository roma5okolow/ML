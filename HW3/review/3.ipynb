{
 "cells": [
  {
   "cell_type": "markdown",
   "metadata": {
    "id": "TK7oX5qdEEYr"
   },
   "source": [
    "<p style=\"align: center;\"><img align=center src=\"https://s8.hostingkartinok.com/uploads/images/2018/08/308b49fcfbc619d629fe4604bceb67ac.jpg\" width=500 height=450/></p>\n",
    "\n",
    "<h3 style=\"text-align: center;\"><b>Школа глубокого обучения ФПМИ МФТИ</b></h3>\n",
    "\n",
    "<h3 style=\"text-align: center;\"><b>Домашнее задание. Продвинутый поток. Весна 2021</b></h3>\n",
    "\n",
    "Это домашнее задание будет посвящено полноценному решению задачи машинного обучения."
   ]
  },
  {
   "cell_type": "markdown",
   "metadata": {
    "id": "zlB-owfaEEYs"
   },
   "source": [
    "Есть две части этого домашнего задания: \n",
    "* Сделать полноценный отчет о вашей работе: как вы обработали данные, какие модели попробовали и какие результаты получились (максимум 10 баллов). За каждую выполненную часть будет начислено определенное количество баллов.\n",
    "* Лучшее решение отправить в соревнование на [kaggle](https://www.kaggle.com/c/advanced-dls-spring-2021/) (максимум 5 баллов). За прохождение определенного порогов будут начисляться баллы.\n",
    "\n",
    "\n",
    "**Обе части будут проверяться в формате peer-review. Т.е. вашу посылку на степик будут проверять несколько других студентов и аггрегация их оценок будет выставлена. В то же время вам тоже нужно будет проверить несколько других учеников.**\n",
    "\n",
    "**Пожалуйста, делайте свою работу чистой и понятной, чтобы облегчить проверку. Если у вас будут проблемы с решением или хочется совета, то пишите в наш чат в телеграме или в лс @runfme. Если вы захотите проаппелировать оценку, то пипшите в лс @runfme.**\n",
    "\n",
    "**Во всех пунктах указания это минимальный набор вещей, которые стоит сделать. Если вы можете сделать какой-то шаг лучше или добавить что-то свое - дерзайте!**"
   ]
  },
  {
   "cell_type": "markdown",
   "metadata": {
    "id": "Tu_JvqcBEN8Y"
   },
   "source": [
    "# Как проверять?\n",
    "\n",
    "Ставьте полный балл, если выполнены все рекомендации или сделано что-то более интересное и сложное. За каждый отсустствующий пункт из рекомендация снижайте 1 балл."
   ]
  },
  {
   "cell_type": "markdown",
   "metadata": {
    "id": "ninJ63mJEEYt"
   },
   "source": [
    "# Метрика\n",
    "\n",
    "Перед решением любой задачи важно понимать, как будет оцениваться ваше решение. В данном случае мы используем стандартную для задачи классификации метрику ROC-AUC. Ее можно вычислить используя только предсказанные вероятности и истинные классы без конкретного порога классификации + она раотает даже если классы в данных сильно несбалансированны (примеров одного класса в десятки раз больше примеров длугого). Именно поэтому она очень удобна для соревнований.\n",
    "\n",
    "Посчитать ее легко:\n"
   ]
  },
  {
   "cell_type": "code",
   "execution_count": 123,
   "metadata": {
    "id": "SQIrka7yEEYu",
    "outputId": "ef45a9f2-7571-47b1-e697-b474b65cb0fb"
   },
   "outputs": [
    {
     "data": {
      "text/plain": [
       "0.8333333333333333"
      ]
     },
     "execution_count": 123,
     "metadata": {},
     "output_type": "execute_result"
    }
   ],
   "source": [
    "from sklearn.metrics import roc_auc_score\n",
    "\n",
    "y_true = [\n",
    "    0,\n",
    "    1,\n",
    "    1,\n",
    "    0,\n",
    "    1\n",
    "]\n",
    "\n",
    "y_predictions = [\n",
    "    0.1,\n",
    "    0.9,\n",
    "    0.4,\n",
    "    0.6,\n",
    "    0.61\n",
    "]\n",
    "\n",
    "roc_auc_score(y_true, y_predictions)"
   ]
  },
  {
   "cell_type": "markdown",
   "metadata": {
    "id": "IrDNNkNTEEYz"
   },
   "source": [
    "# Первая часть. Исследование"
   ]
  },
  {
   "cell_type": "code",
   "execution_count": 124,
   "metadata": {
    "id": "lzLqEeZKEEYz"
   },
   "outputs": [],
   "source": [
    "import pandas as pd\n",
    "import numpy as np\n",
    "from matplotlib import pyplot as plt\n",
    "import seaborn as sns\n",
    "\n",
    "from skopt import BayesSearchCV\n",
    "from skopt.space import Real, Categorical, Integer\n",
    "from skopt.callbacks import DeadlineStopper, DeltaYStopper\n",
    "from sklearn.model_selection import StratifiedKFold\n",
    "from sklearn.metrics import make_scorer\n",
    "\n",
    "\n",
    "import pprint\n",
    "from time import time\n"
   ]
  },
  {
   "cell_type": "markdown",
   "metadata": {
    "id": "LOlxdURSEEY3"
   },
   "source": [
    "## Загрузка данных (2 балла)\n",
    "\n",
    "1) Посмотрите на случайные строчки. \n",
    "\n",
    "2) Посмотрите, есть ли в датасете незаполненные значения (nan'ы) с помощью data.isna() или data.info() и, если нужно, замените их на что-то. Будет хорошо, если вы построите табличку с количеством nan в каждой колонке."
   ]
  },
  {
   "cell_type": "code",
   "execution_count": 3,
   "metadata": {
    "id": "pw-Brue9EEY3"
   },
   "outputs": [],
   "source": [
    "data = pd.read_csv('./train.csv')\n",
    "test = pd.read_csv('./test.csv')"
   ]
  },
  {
   "cell_type": "code",
   "execution_count": 4,
   "metadata": {
    "id": "KgnkkF5bEEY9"
   },
   "outputs": [],
   "source": [
    "# Для вашего удобства списки с именами разных колонок\n",
    "\n",
    "# Числовые признаки\n",
    "num_cols = [\n",
    "    'ClientPeriod',\n",
    "    'MonthlySpending',\n",
    "    'TotalSpent'\n",
    "]\n",
    "\n",
    "# Категориальные признаки\n",
    "cat_cols = [\n",
    "    'Sex',\n",
    "    'IsSeniorCitizen',\n",
    "    'HasPartner',\n",
    "    'HasChild',\n",
    "    'HasPhoneService',\n",
    "    'HasMultiplePhoneNumbers',\n",
    "    'HasInternetService',\n",
    "    'HasOnlineSecurityService',\n",
    "    'HasOnlineBackup',\n",
    "    'HasDeviceProtection',\n",
    "    'HasTechSupportAccess',\n",
    "    'HasOnlineTV',\n",
    "    'HasMovieSubscription',\n",
    "    'HasContractPhone',\n",
    "    'IsBillingPaperless',\n",
    "    'PaymentMethod'\n",
    "]\n",
    "\n",
    "feature_cols = num_cols + cat_cols\n",
    "target_col = 'Churn'"
   ]
  },
  {
   "cell_type": "code",
   "execution_count": 5,
   "metadata": {},
   "outputs": [
    {
     "data": {
      "text/html": [
       "<div>\n",
       "<style scoped>\n",
       "    .dataframe tbody tr th:only-of-type {\n",
       "        vertical-align: middle;\n",
       "    }\n",
       "\n",
       "    .dataframe tbody tr th {\n",
       "        vertical-align: top;\n",
       "    }\n",
       "\n",
       "    .dataframe thead th {\n",
       "        text-align: right;\n",
       "    }\n",
       "</style>\n",
       "<table border=\"1\" class=\"dataframe\">\n",
       "  <thead>\n",
       "    <tr style=\"text-align: right;\">\n",
       "      <th></th>\n",
       "      <th>ClientPeriod</th>\n",
       "      <th>MonthlySpending</th>\n",
       "      <th>TotalSpent</th>\n",
       "      <th>Sex</th>\n",
       "      <th>IsSeniorCitizen</th>\n",
       "      <th>HasPartner</th>\n",
       "      <th>HasChild</th>\n",
       "      <th>HasPhoneService</th>\n",
       "      <th>HasMultiplePhoneNumbers</th>\n",
       "      <th>HasInternetService</th>\n",
       "      <th>HasOnlineSecurityService</th>\n",
       "      <th>HasOnlineBackup</th>\n",
       "      <th>HasDeviceProtection</th>\n",
       "      <th>HasTechSupportAccess</th>\n",
       "      <th>HasOnlineTV</th>\n",
       "      <th>HasMovieSubscription</th>\n",
       "      <th>HasContractPhone</th>\n",
       "      <th>IsBillingPaperless</th>\n",
       "      <th>PaymentMethod</th>\n",
       "      <th>Churn</th>\n",
       "    </tr>\n",
       "  </thead>\n",
       "  <tbody>\n",
       "    <tr>\n",
       "      <th>0</th>\n",
       "      <td>55</td>\n",
       "      <td>19.50</td>\n",
       "      <td>1026.35</td>\n",
       "      <td>Male</td>\n",
       "      <td>0</td>\n",
       "      <td>Yes</td>\n",
       "      <td>Yes</td>\n",
       "      <td>Yes</td>\n",
       "      <td>No</td>\n",
       "      <td>No</td>\n",
       "      <td>No internet service</td>\n",
       "      <td>No internet service</td>\n",
       "      <td>No internet service</td>\n",
       "      <td>No internet service</td>\n",
       "      <td>No internet service</td>\n",
       "      <td>No internet service</td>\n",
       "      <td>One year</td>\n",
       "      <td>No</td>\n",
       "      <td>Mailed check</td>\n",
       "      <td>0</td>\n",
       "    </tr>\n",
       "    <tr>\n",
       "      <th>1</th>\n",
       "      <td>72</td>\n",
       "      <td>25.85</td>\n",
       "      <td>1872.2</td>\n",
       "      <td>Male</td>\n",
       "      <td>0</td>\n",
       "      <td>Yes</td>\n",
       "      <td>No</td>\n",
       "      <td>Yes</td>\n",
       "      <td>Yes</td>\n",
       "      <td>No</td>\n",
       "      <td>No internet service</td>\n",
       "      <td>No internet service</td>\n",
       "      <td>No internet service</td>\n",
       "      <td>No internet service</td>\n",
       "      <td>No internet service</td>\n",
       "      <td>No internet service</td>\n",
       "      <td>Two year</td>\n",
       "      <td>No</td>\n",
       "      <td>Credit card (automatic)</td>\n",
       "      <td>0</td>\n",
       "    </tr>\n",
       "    <tr>\n",
       "      <th>2</th>\n",
       "      <td>1</td>\n",
       "      <td>75.90</td>\n",
       "      <td>75.9</td>\n",
       "      <td>Male</td>\n",
       "      <td>0</td>\n",
       "      <td>No</td>\n",
       "      <td>No</td>\n",
       "      <td>Yes</td>\n",
       "      <td>No</td>\n",
       "      <td>Fiber optic</td>\n",
       "      <td>No</td>\n",
       "      <td>No</td>\n",
       "      <td>No</td>\n",
       "      <td>Yes</td>\n",
       "      <td>No</td>\n",
       "      <td>No</td>\n",
       "      <td>Month-to-month</td>\n",
       "      <td>Yes</td>\n",
       "      <td>Electronic check</td>\n",
       "      <td>1</td>\n",
       "    </tr>\n",
       "    <tr>\n",
       "      <th>3</th>\n",
       "      <td>32</td>\n",
       "      <td>79.30</td>\n",
       "      <td>2570</td>\n",
       "      <td>Female</td>\n",
       "      <td>1</td>\n",
       "      <td>Yes</td>\n",
       "      <td>No</td>\n",
       "      <td>Yes</td>\n",
       "      <td>Yes</td>\n",
       "      <td>Fiber optic</td>\n",
       "      <td>No</td>\n",
       "      <td>No</td>\n",
       "      <td>Yes</td>\n",
       "      <td>No</td>\n",
       "      <td>No</td>\n",
       "      <td>No</td>\n",
       "      <td>Month-to-month</td>\n",
       "      <td>No</td>\n",
       "      <td>Mailed check</td>\n",
       "      <td>0</td>\n",
       "    </tr>\n",
       "    <tr>\n",
       "      <th>4</th>\n",
       "      <td>60</td>\n",
       "      <td>115.25</td>\n",
       "      <td>6758.45</td>\n",
       "      <td>Female</td>\n",
       "      <td>0</td>\n",
       "      <td>Yes</td>\n",
       "      <td>Yes</td>\n",
       "      <td>Yes</td>\n",
       "      <td>Yes</td>\n",
       "      <td>Fiber optic</td>\n",
       "      <td>Yes</td>\n",
       "      <td>Yes</td>\n",
       "      <td>Yes</td>\n",
       "      <td>Yes</td>\n",
       "      <td>Yes</td>\n",
       "      <td>Yes</td>\n",
       "      <td>Two year</td>\n",
       "      <td>No</td>\n",
       "      <td>Credit card (automatic)</td>\n",
       "      <td>0</td>\n",
       "    </tr>\n",
       "    <tr>\n",
       "      <th>...</th>\n",
       "      <td>...</td>\n",
       "      <td>...</td>\n",
       "      <td>...</td>\n",
       "      <td>...</td>\n",
       "      <td>...</td>\n",
       "      <td>...</td>\n",
       "      <td>...</td>\n",
       "      <td>...</td>\n",
       "      <td>...</td>\n",
       "      <td>...</td>\n",
       "      <td>...</td>\n",
       "      <td>...</td>\n",
       "      <td>...</td>\n",
       "      <td>...</td>\n",
       "      <td>...</td>\n",
       "      <td>...</td>\n",
       "      <td>...</td>\n",
       "      <td>...</td>\n",
       "      <td>...</td>\n",
       "      <td>...</td>\n",
       "    </tr>\n",
       "    <tr>\n",
       "      <th>5277</th>\n",
       "      <td>3</td>\n",
       "      <td>30.40</td>\n",
       "      <td>82.15</td>\n",
       "      <td>Male</td>\n",
       "      <td>0</td>\n",
       "      <td>No</td>\n",
       "      <td>No</td>\n",
       "      <td>No</td>\n",
       "      <td>No phone service</td>\n",
       "      <td>DSL</td>\n",
       "      <td>No</td>\n",
       "      <td>No</td>\n",
       "      <td>No</td>\n",
       "      <td>Yes</td>\n",
       "      <td>No</td>\n",
       "      <td>No</td>\n",
       "      <td>Month-to-month</td>\n",
       "      <td>No</td>\n",
       "      <td>Electronic check</td>\n",
       "      <td>0</td>\n",
       "    </tr>\n",
       "    <tr>\n",
       "      <th>5278</th>\n",
       "      <td>50</td>\n",
       "      <td>44.45</td>\n",
       "      <td>2188.45</td>\n",
       "      <td>Male</td>\n",
       "      <td>0</td>\n",
       "      <td>Yes</td>\n",
       "      <td>No</td>\n",
       "      <td>No</td>\n",
       "      <td>No phone service</td>\n",
       "      <td>DSL</td>\n",
       "      <td>Yes</td>\n",
       "      <td>No</td>\n",
       "      <td>No</td>\n",
       "      <td>Yes</td>\n",
       "      <td>Yes</td>\n",
       "      <td>No</td>\n",
       "      <td>One year</td>\n",
       "      <td>Yes</td>\n",
       "      <td>Bank transfer (automatic)</td>\n",
       "      <td>0</td>\n",
       "    </tr>\n",
       "    <tr>\n",
       "      <th>5279</th>\n",
       "      <td>1</td>\n",
       "      <td>55.05</td>\n",
       "      <td>55.05</td>\n",
       "      <td>Male</td>\n",
       "      <td>0</td>\n",
       "      <td>No</td>\n",
       "      <td>No</td>\n",
       "      <td>Yes</td>\n",
       "      <td>No</td>\n",
       "      <td>DSL</td>\n",
       "      <td>No</td>\n",
       "      <td>No</td>\n",
       "      <td>Yes</td>\n",
       "      <td>Yes</td>\n",
       "      <td>No</td>\n",
       "      <td>No</td>\n",
       "      <td>Month-to-month</td>\n",
       "      <td>No</td>\n",
       "      <td>Mailed check</td>\n",
       "      <td>0</td>\n",
       "    </tr>\n",
       "    <tr>\n",
       "      <th>5280</th>\n",
       "      <td>29</td>\n",
       "      <td>76.00</td>\n",
       "      <td>2215.25</td>\n",
       "      <td>Female</td>\n",
       "      <td>0</td>\n",
       "      <td>No</td>\n",
       "      <td>No</td>\n",
       "      <td>Yes</td>\n",
       "      <td>Yes</td>\n",
       "      <td>Fiber optic</td>\n",
       "      <td>No</td>\n",
       "      <td>No</td>\n",
       "      <td>No</td>\n",
       "      <td>No</td>\n",
       "      <td>No</td>\n",
       "      <td>No</td>\n",
       "      <td>Month-to-month</td>\n",
       "      <td>Yes</td>\n",
       "      <td>Credit card (automatic)</td>\n",
       "      <td>0</td>\n",
       "    </tr>\n",
       "    <tr>\n",
       "      <th>5281</th>\n",
       "      <td>19</td>\n",
       "      <td>75.90</td>\n",
       "      <td>1375.6</td>\n",
       "      <td>Female</td>\n",
       "      <td>0</td>\n",
       "      <td>No</td>\n",
       "      <td>Yes</td>\n",
       "      <td>Yes</td>\n",
       "      <td>Yes</td>\n",
       "      <td>DSL</td>\n",
       "      <td>Yes</td>\n",
       "      <td>Yes</td>\n",
       "      <td>No</td>\n",
       "      <td>Yes</td>\n",
       "      <td>Yes</td>\n",
       "      <td>No</td>\n",
       "      <td>Month-to-month</td>\n",
       "      <td>Yes</td>\n",
       "      <td>Mailed check</td>\n",
       "      <td>0</td>\n",
       "    </tr>\n",
       "  </tbody>\n",
       "</table>\n",
       "<p>5282 rows × 20 columns</p>\n",
       "</div>"
      ],
      "text/plain": [
       "      ClientPeriod  MonthlySpending TotalSpent     Sex  IsSeniorCitizen  \\\n",
       "0               55            19.50    1026.35    Male                0   \n",
       "1               72            25.85     1872.2    Male                0   \n",
       "2                1            75.90       75.9    Male                0   \n",
       "3               32            79.30       2570  Female                1   \n",
       "4               60           115.25    6758.45  Female                0   \n",
       "...            ...              ...        ...     ...              ...   \n",
       "5277             3            30.40      82.15    Male                0   \n",
       "5278            50            44.45    2188.45    Male                0   \n",
       "5279             1            55.05      55.05    Male                0   \n",
       "5280            29            76.00    2215.25  Female                0   \n",
       "5281            19            75.90     1375.6  Female                0   \n",
       "\n",
       "     HasPartner HasChild HasPhoneService HasMultiplePhoneNumbers  \\\n",
       "0           Yes      Yes             Yes                      No   \n",
       "1           Yes       No             Yes                     Yes   \n",
       "2            No       No             Yes                      No   \n",
       "3           Yes       No             Yes                     Yes   \n",
       "4           Yes      Yes             Yes                     Yes   \n",
       "...         ...      ...             ...                     ...   \n",
       "5277         No       No              No        No phone service   \n",
       "5278        Yes       No              No        No phone service   \n",
       "5279         No       No             Yes                      No   \n",
       "5280         No       No             Yes                     Yes   \n",
       "5281         No      Yes             Yes                     Yes   \n",
       "\n",
       "     HasInternetService HasOnlineSecurityService      HasOnlineBackup  \\\n",
       "0                    No      No internet service  No internet service   \n",
       "1                    No      No internet service  No internet service   \n",
       "2           Fiber optic                       No                   No   \n",
       "3           Fiber optic                       No                   No   \n",
       "4           Fiber optic                      Yes                  Yes   \n",
       "...                 ...                      ...                  ...   \n",
       "5277                DSL                       No                   No   \n",
       "5278                DSL                      Yes                   No   \n",
       "5279                DSL                       No                   No   \n",
       "5280        Fiber optic                       No                   No   \n",
       "5281                DSL                      Yes                  Yes   \n",
       "\n",
       "      HasDeviceProtection HasTechSupportAccess          HasOnlineTV  \\\n",
       "0     No internet service  No internet service  No internet service   \n",
       "1     No internet service  No internet service  No internet service   \n",
       "2                      No                  Yes                   No   \n",
       "3                     Yes                   No                   No   \n",
       "4                     Yes                  Yes                  Yes   \n",
       "...                   ...                  ...                  ...   \n",
       "5277                   No                  Yes                   No   \n",
       "5278                   No                  Yes                  Yes   \n",
       "5279                  Yes                  Yes                   No   \n",
       "5280                   No                   No                   No   \n",
       "5281                   No                  Yes                  Yes   \n",
       "\n",
       "     HasMovieSubscription HasContractPhone IsBillingPaperless  \\\n",
       "0     No internet service         One year                 No   \n",
       "1     No internet service         Two year                 No   \n",
       "2                      No   Month-to-month                Yes   \n",
       "3                      No   Month-to-month                 No   \n",
       "4                     Yes         Two year                 No   \n",
       "...                   ...              ...                ...   \n",
       "5277                   No   Month-to-month                 No   \n",
       "5278                   No         One year                Yes   \n",
       "5279                   No   Month-to-month                 No   \n",
       "5280                   No   Month-to-month                Yes   \n",
       "5281                   No   Month-to-month                Yes   \n",
       "\n",
       "                  PaymentMethod  Churn  \n",
       "0                  Mailed check      0  \n",
       "1       Credit card (automatic)      0  \n",
       "2              Electronic check      1  \n",
       "3                  Mailed check      0  \n",
       "4       Credit card (automatic)      0  \n",
       "...                         ...    ...  \n",
       "5277           Electronic check      0  \n",
       "5278  Bank transfer (automatic)      0  \n",
       "5279               Mailed check      0  \n",
       "5280    Credit card (automatic)      0  \n",
       "5281               Mailed check      0  \n",
       "\n",
       "[5282 rows x 20 columns]"
      ]
     },
     "execution_count": 5,
     "metadata": {},
     "output_type": "execute_result"
    }
   ],
   "source": [
    "data"
   ]
  },
  {
   "cell_type": "markdown",
   "metadata": {},
   "source": [
    "### Проверим, есть ли какие-то NaN в train и test."
   ]
  },
  {
   "cell_type": "code",
   "execution_count": 6,
   "metadata": {},
   "outputs": [
    {
     "name": "stdout",
     "output_type": "stream",
     "text": [
      "<class 'pandas.core.frame.DataFrame'>\n",
      "RangeIndex: 5282 entries, 0 to 5281\n",
      "Data columns (total 20 columns):\n",
      " #   Column                    Non-Null Count  Dtype  \n",
      "---  ------                    --------------  -----  \n",
      " 0   ClientPeriod              5282 non-null   int64  \n",
      " 1   MonthlySpending           5282 non-null   float64\n",
      " 2   TotalSpent                5282 non-null   object \n",
      " 3   Sex                       5282 non-null   object \n",
      " 4   IsSeniorCitizen           5282 non-null   int64  \n",
      " 5   HasPartner                5282 non-null   object \n",
      " 6   HasChild                  5282 non-null   object \n",
      " 7   HasPhoneService           5282 non-null   object \n",
      " 8   HasMultiplePhoneNumbers   5282 non-null   object \n",
      " 9   HasInternetService        5282 non-null   object \n",
      " 10  HasOnlineSecurityService  5282 non-null   object \n",
      " 11  HasOnlineBackup           5282 non-null   object \n",
      " 12  HasDeviceProtection       5282 non-null   object \n",
      " 13  HasTechSupportAccess      5282 non-null   object \n",
      " 14  HasOnlineTV               5282 non-null   object \n",
      " 15  HasMovieSubscription      5282 non-null   object \n",
      " 16  HasContractPhone          5282 non-null   object \n",
      " 17  IsBillingPaperless        5282 non-null   object \n",
      " 18  PaymentMethod             5282 non-null   object \n",
      " 19  Churn                     5282 non-null   int64  \n",
      "dtypes: float64(1), int64(3), object(16)\n",
      "memory usage: 825.4+ KB\n"
     ]
    }
   ],
   "source": [
    "data.info()"
   ]
  },
  {
   "cell_type": "markdown",
   "metadata": {
    "id": "fwfksF1gEEZI"
   },
   "source": [
    "### Странно, что TotalSpent имеет тип object, хотя относиться к численным признакам. Оказывается, что там есть пропущенные значения, которые оформлены в виде пробелов. Исправим это сделав NaN пропущенные значения и сделав тип float64."
   ]
  },
  {
   "cell_type": "code",
   "execution_count": 7,
   "metadata": {},
   "outputs": [],
   "source": [
    "data = data.replace(' ', np.nan)\n",
    "data['TotalSpent'] = data['TotalSpent'].astype('float64')\n",
    "#data = data.replace(['', ' '],'0')"
   ]
  },
  {
   "cell_type": "markdown",
   "metadata": {},
   "source": [
    "### Теперь заменим NaN на медианные значения"
   ]
  },
  {
   "cell_type": "code",
   "execution_count": 8,
   "metadata": {},
   "outputs": [],
   "source": [
    "data['TotalSpent'] = data['TotalSpent'].fillna(data['TotalSpent'].mean())"
   ]
  },
  {
   "cell_type": "code",
   "execution_count": 9,
   "metadata": {},
   "outputs": [
    {
     "name": "stdout",
     "output_type": "stream",
     "text": [
      "<class 'pandas.core.frame.DataFrame'>\n",
      "RangeIndex: 5282 entries, 0 to 5281\n",
      "Data columns (total 20 columns):\n",
      " #   Column                    Non-Null Count  Dtype  \n",
      "---  ------                    --------------  -----  \n",
      " 0   ClientPeriod              5282 non-null   int64  \n",
      " 1   MonthlySpending           5282 non-null   float64\n",
      " 2   TotalSpent                5282 non-null   float64\n",
      " 3   Sex                       5282 non-null   object \n",
      " 4   IsSeniorCitizen           5282 non-null   int64  \n",
      " 5   HasPartner                5282 non-null   object \n",
      " 6   HasChild                  5282 non-null   object \n",
      " 7   HasPhoneService           5282 non-null   object \n",
      " 8   HasMultiplePhoneNumbers   5282 non-null   object \n",
      " 9   HasInternetService        5282 non-null   object \n",
      " 10  HasOnlineSecurityService  5282 non-null   object \n",
      " 11  HasOnlineBackup           5282 non-null   object \n",
      " 12  HasDeviceProtection       5282 non-null   object \n",
      " 13  HasTechSupportAccess      5282 non-null   object \n",
      " 14  HasOnlineTV               5282 non-null   object \n",
      " 15  HasMovieSubscription      5282 non-null   object \n",
      " 16  HasContractPhone          5282 non-null   object \n",
      " 17  IsBillingPaperless        5282 non-null   object \n",
      " 18  PaymentMethod             5282 non-null   object \n",
      " 19  Churn                     5282 non-null   int64  \n",
      "dtypes: float64(2), int64(3), object(15)\n",
      "memory usage: 825.4+ KB\n"
     ]
    }
   ],
   "source": [
    "data.info()"
   ]
  },
  {
   "cell_type": "code",
   "execution_count": 10,
   "metadata": {
    "id": "tHC6gWabEEZA"
   },
   "outputs": [
    {
     "data": {
      "text/plain": [
       "ClientPeriod                0\n",
       "MonthlySpending             0\n",
       "TotalSpent                  0\n",
       "Sex                         0\n",
       "IsSeniorCitizen             0\n",
       "HasPartner                  0\n",
       "HasChild                    0\n",
       "HasPhoneService             0\n",
       "HasMultiplePhoneNumbers     0\n",
       "HasInternetService          0\n",
       "HasOnlineSecurityService    0\n",
       "HasOnlineBackup             0\n",
       "HasDeviceProtection         0\n",
       "HasTechSupportAccess        0\n",
       "HasOnlineTV                 0\n",
       "HasMovieSubscription        0\n",
       "HasContractPhone            0\n",
       "IsBillingPaperless          0\n",
       "PaymentMethod               0\n",
       "Churn                       0\n",
       "dtype: int64"
      ]
     },
     "execution_count": 10,
     "metadata": {},
     "output_type": "execute_result"
    }
   ],
   "source": [
    "data.isna().sum()"
   ]
  },
  {
   "cell_type": "markdown",
   "metadata": {},
   "source": [
    "### Сделаем аналогично и для test"
   ]
  },
  {
   "cell_type": "code",
   "execution_count": 11,
   "metadata": {},
   "outputs": [],
   "source": [
    "test = test.replace(' ', np.nan)\n",
    "test['TotalSpent'] = test['TotalSpent'].astype('float64')\n",
    "test['TotalSpent'] = test['TotalSpent'].fillna(test['TotalSpent'].mean())"
   ]
  },
  {
   "cell_type": "code",
   "execution_count": 12,
   "metadata": {},
   "outputs": [
    {
     "name": "stdout",
     "output_type": "stream",
     "text": [
      "<class 'pandas.core.frame.DataFrame'>\n",
      "RangeIndex: 1761 entries, 0 to 1760\n",
      "Data columns (total 19 columns):\n",
      " #   Column                    Non-Null Count  Dtype  \n",
      "---  ------                    --------------  -----  \n",
      " 0   ClientPeriod              1761 non-null   int64  \n",
      " 1   MonthlySpending           1761 non-null   float64\n",
      " 2   TotalSpent                1761 non-null   float64\n",
      " 3   Sex                       1761 non-null   object \n",
      " 4   IsSeniorCitizen           1761 non-null   int64  \n",
      " 5   HasPartner                1761 non-null   object \n",
      " 6   HasChild                  1761 non-null   object \n",
      " 7   HasPhoneService           1761 non-null   object \n",
      " 8   HasMultiplePhoneNumbers   1761 non-null   object \n",
      " 9   HasInternetService        1761 non-null   object \n",
      " 10  HasOnlineSecurityService  1761 non-null   object \n",
      " 11  HasOnlineBackup           1761 non-null   object \n",
      " 12  HasDeviceProtection       1761 non-null   object \n",
      " 13  HasTechSupportAccess      1761 non-null   object \n",
      " 14  HasOnlineTV               1761 non-null   object \n",
      " 15  HasMovieSubscription      1761 non-null   object \n",
      " 16  HasContractPhone          1761 non-null   object \n",
      " 17  IsBillingPaperless        1761 non-null   object \n",
      " 18  PaymentMethod             1761 non-null   object \n",
      "dtypes: float64(2), int64(2), object(15)\n",
      "memory usage: 261.5+ KB\n"
     ]
    }
   ],
   "source": [
    "test.info()"
   ]
  },
  {
   "cell_type": "markdown",
   "metadata": {},
   "source": [
    "### Пробелы в TotalSpent заменены на медианное значение"
   ]
  },
  {
   "cell_type": "markdown",
   "metadata": {
    "id": "dK370bPCEEZD"
   },
   "source": [
    "## Анализ данных (3 балла)\n",
    "\n",
    "1) Для численных призанков постройте гистограмму (*plt.hist(...)*) или boxplot (*plt.boxplot(...)*). Для категориальных посчитайте количество каждого значения для каждого признака. Для каждой колонки надо сделать *data.value_counts()* и построить bar диаграммы *plt.bar(...)* или круговые диаграммы *plt.pie(...)* (хорошо, елси вы сможете это сделать на одном гарфике с помощью *plt.subplots(...)*). \n",
    "\n",
    "2) Посмотрите на распределение целевой переменной и скажите, являются ли классы несбалансированными.\n",
    "\n",
    "3) (Если будет желание) Поиграйте с разными библиотеками для визуализации - *sns*, *pandas_visual_analysis*, etc.\n",
    "\n",
    "Второй пункт очень важен, потому что существуют задачи классификации с несбалансированными классами. Например, это может значить, что в датасете намного больше примеров 0 класса. В таких случаях нужно 1) не использовать accuracy как метрику 2) использовать методы борьбы с imbalanced dataset (обычно если датасет сильно несбалансирован, т.е. класса 1 в 20 раз меньше класса 0)."
   ]
  },
  {
   "cell_type": "code",
   "execution_count": 13,
   "metadata": {},
   "outputs": [
    {
     "data": {
      "image/png": "[encoded data removed]",
      "text/plain": [
       "<Figure size 1000x1000 with 3 Axes>"
      ]
     },
     "metadata": {},
     "output_type": "display_data"
    }
   ],
   "source": [
    "fig = plt.figure(figsize=(10, 10), dpi=100, facecolor='white')\n",
    "for i, num_col in enumerate(num_cols):\n",
    "    ax = fig.add_subplot(3, 1, i+1)\n",
    "    ax.hist(data[num_col], bins=30)\n",
    "    ax.set_title(num_col)\n"
   ]
  },
  {
   "cell_type": "code",
   "execution_count": 14,
   "metadata": {},
   "outputs": [
    {
     "data": {
      "image/png": "[encoded data removed]",
      "text/plain": [
       "<Figure size 2200x2000 with 16 Axes>"
      ]
     },
     "metadata": {},
     "output_type": "display_data"
    }
   ],
   "source": [
    "fig = plt.figure(figsize=(22, 20), dpi=100, facecolor='white')\n",
    "for i, cat_col in enumerate(cat_cols):\n",
    "    ax = fig.add_subplot(4, 4, i+1)\n",
    "    sns.countplot(x = data[cat_col], ax=ax)\n",
    "    "
   ]
  },
  {
   "cell_type": "code",
   "execution_count": 15,
   "metadata": {
    "id": "NZkbgFJZEEZE"
   },
   "outputs": [
    {
     "data": {
      "image/png": "[encoded data removed]",
      "text/plain": [
       "<Figure size 432x288 with 1 Axes>"
      ]
     },
     "metadata": {
      "needs_background": "light"
     },
     "output_type": "display_data"
    }
   ],
   "source": [
    "plt.hist(data['Churn'])\n",
    "plt.show()"
   ]
  },
  {
   "cell_type": "markdown",
   "metadata": {},
   "source": [
    "### Классы не сбалансированы"
   ]
  },
  {
   "cell_type": "markdown",
   "metadata": {
    "id": "DviiJd8REEZK"
   },
   "source": [
    "## Применение линейных моделей (3 балла)\n",
    "\n",
    "1) Обработайте данные для того, чтобы к ним можно было применить LogisticRegression. Т.е. отнормируйте числовые признаки, а категориальные закодируйте с помощью one-hot-encoding'а. \n",
    "\n",
    "2) С помощью кроссвалидации или разделения на train/valid выборку протестируйте разные значения гиперпараметра C и выберите лучший (можно тестировать С=100, 10, 1, 0.1, 0.01, 0.001) по метрике ROC-AUC. \n",
    "\n",
    "Если вы разделяете на train/valid, то используйте LogisticRegressionCV. Он сам при вызове .fit() подберет параметр С. (не забудьте передать scroing='roc_auc', чтобы при кроссвалидации сравнивались значения этой метрики, и refit=True, чтобы при потом модель обучилась на всем датасете с лучшим параметром C). \n",
    "\n",
    "\n",
    "(более сложный вариант) Если вы будете использовать кроссвалидацию, то преобразования данных и LogisticRegression нужно соединить в один Pipeline с помощью make_pipeline, как это делалось во втором семинаре. Потом pipeline надо передать в GridSearchCV. Для one-hot-encoding'a можно испльзовать комбинацию LabelEncoder + OneHotEncoder (сначала превращаем строчки в числа, а потом числа првращаем в one-hot вектора.)"
   ]
  },
  {
   "cell_type": "code",
   "execution_count": 16,
   "metadata": {
    "id": "xHCLDmwqEEZL"
   },
   "outputs": [],
   "source": [
    "from sklearn.linear_model import LogisticRegression, LogisticRegressionCV\n",
    "from sklearn.model_selection import train_test_split, GridSearchCV\n",
    "from sklearn.preprocessing import StandardScaler, RobustScaler, LabelEncoder, OneHotEncoder\n",
    "from sklearn.pipeline import make_pipeline"
   ]
  },
  {
   "cell_type": "code",
   "execution_count": 17,
   "metadata": {
    "id": "P2Yv3uYtEEZO"
   },
   "outputs": [],
   "source": [
    "X = data.drop('Churn', axis=1)\n",
    "y = data['Churn']\n",
    "\n",
    "scaler = StandardScaler()\n",
    "X[num_cols] = scaler.fit_transform(X[num_cols])\n",
    "X_cat = pd.get_dummies(X[cat_cols])\n",
    "X = pd.concat([X[num_cols], X_cat], axis=1)\n",
    "\n",
    "X_trainval, X_test, y_trainval, y_test = train_test_split(X, y, test_size=0.25, random_state=42)"
   ]
  },
  {
   "cell_type": "code",
   "execution_count": 18,
   "metadata": {},
   "outputs": [],
   "source": [
    "logreg = LogisticRegression()\n",
    "\n",
    "logreg_gridsearch = GridSearchCV(logreg, {'C' : [100, 10, 1, 0.1, 0.01, 0.001]}, scoring='roc_auc', cv=5, n_jobs=8)"
   ]
  },
  {
   "cell_type": "code",
   "execution_count": 28,
   "metadata": {},
   "outputs": [
    {
     "data": {
      "text/plain": [
       "LogisticRegression(C=1)"
      ]
     },
     "execution_count": 28,
     "metadata": {},
     "output_type": "execute_result"
    }
   ],
   "source": [
    "logreg = LogisticRegression(C=1)\n",
    "logreg.fit(X_trainval, y_trainval)"
   ]
  },
  {
   "cell_type": "code",
   "execution_count": 29,
   "metadata": {},
   "outputs": [],
   "source": [
    "preds = logreg_gridsearch.predict_proba(X_test)[:,1]\n",
    "score = roc_auc_score(y_test, preds)"
   ]
  },
  {
   "cell_type": "markdown",
   "metadata": {
    "id": "uVahy6JKEEZQ"
   },
   "source": [
    "Выпишите какое лучшее качество и с какими параметрами вам удалось получить"
   ]
  },
  {
   "cell_type": "code",
   "execution_count": 30,
   "metadata": {
    "id": "36729TOQEEZR"
   },
   "outputs": [
    {
     "data": {
      "text/plain": [
       "0.8251679438999827"
      ]
     },
     "execution_count": 30,
     "metadata": {},
     "output_type": "execute_result"
    }
   ],
   "source": [
    "score"
   ]
  },
  {
   "cell_type": "markdown",
   "metadata": {
    "id": "BlTeVy7fEEZR"
   },
   "source": [
    "## Применение градиентного бустинга (2 балла)\n",
    "\n",
    "Если вы хотите получить баллы за точный ответ, то стоит попробовать градиентный бустинг. Часто градиентный бустинг с дефолтными параметрами даст вам 80% результата за 0% усилий.\n",
    "\n",
    "Мы будем использовать catboost, поэтому нам не надо кодировать категориальные признаки. catboost сделает это сам (в .fit() надо передать cat_features=cat_cols). А численные признаки нормировать для моделей, основанных на деревьях не нужно.\n",
    "\n",
    "1) Разделите выборку на train/valid. Протестируйте catboost cо стандартными параметрами.\n",
    "\n",
    "2) Протестируйте разные занчения параметроа количества деревьев и learning_rate'а и выберите лучшую по метрике ROC-AUC комбинацию. \n",
    "\n",
    "(Дополнительно) Есть некоторые сложности с тем, чтобы использовать CatBoostClassifier вместе с GridSearchCV, поэтому мы не просим использовать кроссвалидацию. Но можете попробовать)"
   ]
  },
  {
   "cell_type": "code",
   "execution_count": 58,
   "metadata": {
    "id": "Fioxxlp-EEZS",
    "tags": []
   },
   "outputs": [],
   "source": [
    "from catboost import CatBoostClassifier, Pool\n",
    "\n",
    "\n",
    "X = data.drop('Churn', axis=1)\n",
    "for col in X.select_dtypes(include=['object']):\n",
    "    X[col] = X[col].astype('category')\n",
    "\n",
    "X_train, X_test, y_train, y_test = train_test_split(X, y, test_size = 0.25, random_state=42)\n"
   ]
  },
  {
   "cell_type": "code",
   "execution_count": 103,
   "metadata": {},
   "outputs": [],
   "source": [
    "catboost = CatBoostClassifier(cat_features=cat_cols, \n",
    "                                    task_type='GPU',\n",
    "                                    verbose=False,\n",
    "                                    eval_metric='AUC',\n",
    "                                    #loss_function='AUC',\n",
    "                                    devices='0:1')\n",
    "\n",
    "\n",
    "search_spaces = {'iterations': Integer(10, 2000),\n",
    "                 'depth': Integer(1, 8),\n",
    "                 'min_data_in_leaf': Integer(1,5),\n",
    "                 'boosting_type': Categorical(['Ordered', 'Plain']),\n",
    "                 'learning_rate': Real(0.01, 1.0, 'log-uniform'),\n",
    "                 'random_strength': Real(1e-9, 10, 'log-uniform'),\n",
    "                 'bagging_temperature': Real(0.0, 1.0),\n",
    "                 'border_count': Integer(1, 255),\n",
    "                 'l2_leaf_reg': Integer(2, 30),\n",
    "                 'scale_pos_weight':Real(0.01, 1.0, 'uniform')}\n",
    "\n",
    "roc_auc = make_scorer(roc_auc_score, greater_is_better=True, needs_threshold=True)\n",
    "skf = StratifiedKFold(n_splits=5, shuffle=True, random_state=0)\n",
    "\n",
    "opt = BayesSearchCV(catboost,\n",
    "                    search_spaces,\n",
    "                    scoring=roc_auc,\n",
    "                    cv=skf,\n",
    "                    n_iter=100,\n",
    "                    n_jobs=1,\n",
    "                    return_train_score=False,\n",
    "                    refit=False,\n",
    "                    optimizer_kwargs={'base_estimator': 'GP'},\n",
    "                    random_state=42)\n",
    "\n",
    "\n",
    "overdone_control = DeltaYStopper(delta=0.0001)\n",
    "time_limit_control = DeadlineStopper(total_time=60 * 60)\n",
    "\n",
    "\n",
    "#catboost_grid.fit(Pool(X_train, y_train, cat_features=cat_cols))\n",
    "#catboost.fit(Pool(X_train, y_train, cat_features))"
   ]
  },
  {
   "cell_type": "code",
   "execution_count": 104,
   "metadata": {},
   "outputs": [],
   "source": [
    "def report_perf(optimizer, X, y, title, callbacks=None):\n",
    "    \"\"\"\n",
    "    A wrapper for measuring time and performances of different optmizers\n",
    "    \n",
    "    optimizer = a sklearn or a skopt optimizer\n",
    "    X = the training set \n",
    "    y = our target\n",
    "    title = a string label for the experiment\n",
    "    \"\"\"\n",
    "    start = time()\n",
    "    if callbacks:\n",
    "        optimizer.fit(X, y, callback=callbacks)\n",
    "    else:\n",
    "        optimizer.fit(X, y)\n",
    "    d=pd.DataFrame(optimizer.cv_results_)\n",
    "    best_score = optimizer.best_score_\n",
    "    best_score_std = d.iloc[optimizer.best_index_].std_test_score\n",
    "    best_params = optimizer.best_params_\n",
    "    print((title + \" took %.2f seconds,  candidates checked: %d, best CV score: %.3f \"\n",
    "           +u\"\\u00B1\"+\" %.3f\") % (time() - start, \n",
    "                                  len(optimizer.cv_results_['params']),\n",
    "                                  best_score,\n",
    "                                  best_score_std))    \n",
    "    print('Best parameters:')\n",
    "    pprint.pprint(best_params)\n",
    "    print()\n",
    "    return best_params"
   ]
  },
  {
   "cell_type": "code",
   "execution_count": 105,
   "metadata": {
    "collapsed": true,
    "jupyter": {
     "outputs_hidden": true
    },
    "tags": []
   },
   "outputs": [
    {
     "name": "stdout",
     "output_type": "stream",
     "text": [
      "CatBoost took 3785.13 seconds,  candidates checked: 15, best CV score: 0.854 ± 0.011\n",
      "Best parameters:\n",
      "OrderedDict([('bagging_temperature', 0.44483251230115184),\n",
      "             ('boosting_type', 'Plain'),\n",
      "             ('border_count', 28),\n",
      "             ('depth', 4),\n",
      "             ('iterations', 384),\n",
      "             ('l2_leaf_reg', 15),\n",
      "             ('learning_rate', 0.020459551449165617),\n",
      "             ('min_data_in_leaf', 4),\n",
      "             ('random_strength', 0.00037445896306557123),\n",
      "             ('scale_pos_weight', 0.9734749079159599)])\n",
      "\n"
     ]
    }
   ],
   "source": [
    "best_params = report_perf(opt, X_train, y_train,'CatBoost', \n",
    "                          callbacks=[overdone_control, time_limit_control])"
   ]
  },
  {
   "cell_type": "code",
   "execution_count": null,
   "metadata": {},
   "outputs": [],
   "source": [
    "# OrderedDict([('bagging_temperature', 0.44483251230115184),\n",
    "#              ('boosting_type', 'Plain'),\n",
    "#              ('border_count', 28),\n",
    "#              ('depth', 4),\n",
    "#              ('iterations', 384),\n",
    "#              ('l2_leaf_reg', 15),\n",
    "#              ('learning_rate', 0.020459551449165617),\n",
    "#              ('min_data_in_leaf', 4),\n",
    "#              ('random_strength', 0.00037445896306557123),\n",
    "#              ('scale_pos_weight', 0.9734749079159599)])"
   ]
  },
  {
   "cell_type": "code",
   "execution_count": 107,
   "metadata": {},
   "outputs": [
    {
     "name": "stdout",
     "output_type": "stream",
     "text": [
      "0:\tlearn: 0.8332872\ttotal: 35.4ms\tremaining: 13.6s\n",
      "1:\tlearn: 0.8364055\ttotal: 63.8ms\tremaining: 12.2s\n",
      "2:\tlearn: 0.8366190\ttotal: 90.8ms\tremaining: 11.5s\n",
      "3:\tlearn: 0.8394839\ttotal: 114ms\tremaining: 10.9s\n",
      "4:\tlearn: 0.8397493\ttotal: 138ms\tremaining: 10.5s\n",
      "5:\tlearn: 0.8413174\ttotal: 162ms\tremaining: 10.2s\n",
      "6:\tlearn: 0.8410224\ttotal: 186ms\tremaining: 10s\n",
      "7:\tlearn: 0.8433805\ttotal: 210ms\tremaining: 9.86s\n",
      "8:\tlearn: 0.8436912\ttotal: 249ms\tremaining: 10.4s\n",
      "9:\tlearn: 0.8444049\ttotal: 278ms\tremaining: 10.4s\n",
      "10:\tlearn: 0.8448919\ttotal: 308ms\tremaining: 10.4s\n",
      "11:\tlearn: 0.8446453\ttotal: 337ms\tremaining: 10.5s\n",
      "12:\tlearn: 0.8456728\ttotal: 367ms\tremaining: 10.5s\n",
      "13:\tlearn: 0.8457184\ttotal: 396ms\tremaining: 10.5s\n",
      "14:\tlearn: 0.8460812\ttotal: 426ms\tremaining: 10.5s\n",
      "15:\tlearn: 0.8460082\ttotal: 454ms\tremaining: 10.4s\n",
      "16:\tlearn: 0.8481797\ttotal: 483ms\tremaining: 10.4s\n",
      "17:\tlearn: 0.8482577\ttotal: 537ms\tremaining: 10.9s\n",
      "18:\tlearn: 0.8490081\ttotal: 590ms\tremaining: 11.3s\n",
      "19:\tlearn: 0.8490605\ttotal: 644ms\tremaining: 11.7s\n",
      "20:\tlearn: 0.8503936\ttotal: 684ms\tremaining: 11.8s\n",
      "21:\tlearn: 0.8506525\ttotal: 711ms\tremaining: 11.7s\n",
      "22:\tlearn: 0.8512128\ttotal: 740ms\tremaining: 11.6s\n",
      "23:\tlearn: 0.8514524\ttotal: 772ms\tremaining: 11.6s\n",
      "24:\tlearn: 0.8514759\ttotal: 796ms\tremaining: 11.4s\n",
      "25:\tlearn: 0.8517883\ttotal: 822ms\tremaining: 11.3s\n",
      "26:\tlearn: 0.8518069\ttotal: 849ms\tremaining: 11.2s\n",
      "27:\tlearn: 0.8520429\ttotal: 876ms\tremaining: 11.1s\n",
      "28:\tlearn: 0.8522089\ttotal: 902ms\tremaining: 11s\n",
      "29:\tlearn: 0.8523722\ttotal: 929ms\tremaining: 11s\n",
      "30:\tlearn: 0.8524061\ttotal: 955ms\tremaining: 10.9s\n",
      "31:\tlearn: 0.8525723\ttotal: 982ms\tremaining: 10.8s\n",
      "32:\tlearn: 0.8527095\ttotal: 1.01s\tremaining: 10.8s\n",
      "33:\tlearn: 0.8528549\ttotal: 1.03s\tremaining: 10.7s\n",
      "34:\tlearn: 0.8528210\ttotal: 1.06s\tremaining: 10.6s\n",
      "35:\tlearn: 0.8537012\ttotal: 1.09s\tremaining: 10.5s\n",
      "36:\tlearn: 0.8541530\ttotal: 1.11s\tremaining: 10.5s\n",
      "37:\tlearn: 0.8543065\ttotal: 1.14s\tremaining: 10.4s\n",
      "38:\tlearn: 0.8543874\ttotal: 1.17s\tremaining: 10.3s\n",
      "39:\tlearn: 0.8548186\ttotal: 1.19s\tremaining: 10.3s\n",
      "40:\tlearn: 0.8551652\ttotal: 1.22s\tremaining: 10.2s\n",
      "41:\tlearn: 0.8554056\ttotal: 1.25s\tremaining: 10.2s\n",
      "42:\tlearn: 0.8556603\ttotal: 1.28s\tremaining: 10.1s\n",
      "43:\tlearn: 0.8556536\ttotal: 1.31s\tremaining: 10.1s\n",
      "44:\tlearn: 0.8557765\ttotal: 1.33s\tremaining: 10s\n",
      "45:\tlearn: 0.8558887\ttotal: 1.35s\tremaining: 9.94s\n",
      "46:\tlearn: 0.8559667\ttotal: 1.38s\tremaining: 9.87s\n",
      "47:\tlearn: 0.8561138\ttotal: 1.4s\tremaining: 9.8s\n",
      "48:\tlearn: 0.8563820\ttotal: 1.42s\tremaining: 9.74s\n",
      "49:\tlearn: 0.8565225\ttotal: 1.45s\tremaining: 9.67s\n",
      "50:\tlearn: 0.8566813\ttotal: 1.47s\tremaining: 9.61s\n",
      "51:\tlearn: 0.8568218\ttotal: 1.49s\tremaining: 9.54s\n",
      "52:\tlearn: 0.8568724\ttotal: 1.52s\tremaining: 9.49s\n",
      "53:\tlearn: 0.8569774\ttotal: 1.54s\tremaining: 9.44s\n",
      "54:\tlearn: 0.8570356\ttotal: 1.57s\tremaining: 9.39s\n",
      "55:\tlearn: 0.8572428\ttotal: 1.59s\tremaining: 9.34s\n",
      "56:\tlearn: 0.8573316\ttotal: 1.62s\tremaining: 9.29s\n",
      "57:\tlearn: 0.8574235\ttotal: 1.64s\tremaining: 9.24s\n",
      "58:\tlearn: 0.8575738\ttotal: 1.67s\tremaining: 9.19s\n",
      "59:\tlearn: 0.8577203\ttotal: 1.69s\tremaining: 9.14s\n",
      "60:\tlearn: 0.8579453\ttotal: 1.72s\tremaining: 9.09s\n",
      "61:\tlearn: 0.8580222\ttotal: 1.74s\tremaining: 9.04s\n",
      "62:\tlearn: 0.8580593\ttotal: 1.76s\tremaining: 8.99s\n",
      "63:\tlearn: 0.8580333\ttotal: 1.79s\tremaining: 8.95s\n",
      "64:\tlearn: 0.8580937\ttotal: 1.81s\tremaining: 8.9s\n",
      "65:\tlearn: 0.8582212\ttotal: 1.84s\tremaining: 8.87s\n",
      "66:\tlearn: 0.8583105\ttotal: 1.86s\tremaining: 8.82s\n",
      "67:\tlearn: 0.8585162\ttotal: 1.89s\tremaining: 8.78s\n",
      "68:\tlearn: 0.8585633\ttotal: 1.91s\tremaining: 8.74s\n",
      "69:\tlearn: 0.8587506\ttotal: 1.94s\tremaining: 8.7s\n",
      "70:\tlearn: 0.8587599\ttotal: 1.97s\tremaining: 8.67s\n",
      "71:\tlearn: 0.8588727\ttotal: 1.99s\tremaining: 8.64s\n",
      "72:\tlearn: 0.8588974\ttotal: 2.02s\tremaining: 8.62s\n",
      "73:\tlearn: 0.8589561\ttotal: 2.05s\tremaining: 8.59s\n",
      "74:\tlearn: 0.8591072\ttotal: 2.08s\tremaining: 8.56s\n",
      "75:\tlearn: 0.8591916\ttotal: 2.11s\tremaining: 8.54s\n",
      "76:\tlearn: 0.8593201\ttotal: 2.13s\tremaining: 8.5s\n",
      "77:\tlearn: 0.8593993\ttotal: 2.16s\tremaining: 8.47s\n",
      "78:\tlearn: 0.8595892\ttotal: 2.19s\tremaining: 8.44s\n",
      "79:\tlearn: 0.8596710\ttotal: 2.21s\tremaining: 8.41s\n",
      "80:\tlearn: 0.8597989\ttotal: 2.25s\tremaining: 8.43s\n",
      "81:\tlearn: 0.8599662\ttotal: 2.28s\tremaining: 8.4s\n",
      "82:\tlearn: 0.8600843\ttotal: 2.31s\tremaining: 8.37s\n",
      "83:\tlearn: 0.8602476\ttotal: 2.35s\tremaining: 8.38s\n",
      "84:\tlearn: 0.8604572\ttotal: 2.37s\tremaining: 8.34s\n",
      "85:\tlearn: 0.8604427\ttotal: 2.4s\tremaining: 8.3s\n",
      "86:\tlearn: 0.8604392\ttotal: 2.42s\tremaining: 8.27s\n",
      "87:\tlearn: 0.8605974\ttotal: 2.45s\tremaining: 8.23s\n",
      "88:\tlearn: 0.8607610\ttotal: 2.47s\tremaining: 8.19s\n",
      "89:\tlearn: 0.8608688\ttotal: 2.49s\tremaining: 8.15s\n",
      "90:\tlearn: 0.8609197\ttotal: 2.52s\tremaining: 8.11s\n",
      "91:\tlearn: 0.8610090\ttotal: 2.54s\tremaining: 8.07s\n",
      "92:\tlearn: 0.8611987\ttotal: 2.57s\tremaining: 8.03s\n",
      "93:\tlearn: 0.8612285\ttotal: 2.59s\tremaining: 8s\n",
      "94:\tlearn: 0.8614277\ttotal: 2.62s\tremaining: 7.96s\n",
      "95:\tlearn: 0.8614433\ttotal: 2.64s\tremaining: 7.92s\n",
      "96:\tlearn: 0.8615775\ttotal: 2.67s\tremaining: 7.89s\n",
      "97:\tlearn: 0.8616948\ttotal: 2.7s\tremaining: 7.88s\n",
      "98:\tlearn: 0.8619038\ttotal: 2.73s\tremaining: 7.87s\n",
      "99:\tlearn: 0.8619742\ttotal: 2.77s\tremaining: 7.86s\n",
      "100:\tlearn: 0.8621310\ttotal: 2.8s\tremaining: 7.83s\n",
      "101:\tlearn: 0.8622420\ttotal: 2.83s\tremaining: 7.82s\n",
      "102:\tlearn: 0.8623665\ttotal: 2.86s\tremaining: 7.8s\n",
      "103:\tlearn: 0.8624500\ttotal: 2.89s\tremaining: 7.78s\n",
      "104:\tlearn: 0.8624824\ttotal: 2.92s\tremaining: 7.76s\n",
      "105:\tlearn: 0.8626131\ttotal: 2.95s\tremaining: 7.74s\n",
      "106:\tlearn: 0.8626985\ttotal: 2.98s\tremaining: 7.72s\n",
      "107:\tlearn: 0.8627492\ttotal: 3.01s\tremaining: 7.7s\n",
      "108:\tlearn: 0.8627270\ttotal: 3.04s\tremaining: 7.67s\n",
      "109:\tlearn: 0.8628444\ttotal: 3.07s\tremaining: 7.64s\n",
      "110:\tlearn: 0.8629689\ttotal: 3.1s\tremaining: 7.62s\n",
      "111:\tlearn: 0.8630322\ttotal: 3.13s\tremaining: 7.59s\n",
      "112:\tlearn: 0.8631370\ttotal: 3.15s\tremaining: 7.57s\n",
      "113:\tlearn: 0.8631562\ttotal: 3.19s\tremaining: 7.55s\n",
      "114:\tlearn: 0.8632062\ttotal: 3.22s\tremaining: 7.53s\n",
      "115:\tlearn: 0.8632879\ttotal: 3.25s\tremaining: 7.5s\n",
      "116:\tlearn: 0.8633101\ttotal: 3.29s\tremaining: 7.51s\n",
      "117:\tlearn: 0.8634042\ttotal: 3.32s\tremaining: 7.49s\n",
      "118:\tlearn: 0.8634978\ttotal: 3.36s\tremaining: 7.47s\n",
      "119:\tlearn: 0.8635695\ttotal: 3.39s\tremaining: 7.46s\n",
      "120:\tlearn: 0.8636869\ttotal: 3.42s\tremaining: 7.43s\n",
      "121:\tlearn: 0.8637198\ttotal: 3.45s\tremaining: 7.42s\n",
      "122:\tlearn: 0.8638445\ttotal: 3.49s\tremaining: 7.4s\n",
      "123:\tlearn: 0.8639100\ttotal: 3.52s\tremaining: 7.38s\n",
      "124:\tlearn: 0.8640111\ttotal: 3.55s\tremaining: 7.36s\n",
      "125:\tlearn: 0.8640789\ttotal: 3.58s\tremaining: 7.34s\n",
      "126:\tlearn: 0.8641105\ttotal: 3.62s\tremaining: 7.32s\n",
      "127:\tlearn: 0.8641594\ttotal: 3.65s\tremaining: 7.3s\n",
      "128:\tlearn: 0.8642121\ttotal: 3.69s\tremaining: 7.29s\n",
      "129:\tlearn: 0.8642681\ttotal: 3.72s\tremaining: 7.27s\n",
      "130:\tlearn: 0.8643803\ttotal: 3.75s\tremaining: 7.25s\n",
      "131:\tlearn: 0.8644448\ttotal: 3.79s\tremaining: 7.23s\n",
      "132:\tlearn: 0.8645338\ttotal: 3.82s\tremaining: 7.21s\n",
      "133:\tlearn: 0.8645683\ttotal: 3.85s\tremaining: 7.19s\n",
      "134:\tlearn: 0.8646280\ttotal: 3.88s\tremaining: 7.17s\n",
      "135:\tlearn: 0.8646614\ttotal: 3.92s\tremaining: 7.14s\n",
      "136:\tlearn: 0.8646950\ttotal: 3.94s\tremaining: 7.11s\n",
      "137:\tlearn: 0.8647830\ttotal: 3.98s\tremaining: 7.1s\n",
      "138:\tlearn: 0.8648837\ttotal: 4.01s\tremaining: 7.08s\n",
      "139:\tlearn: 0.8649466\ttotal: 4.05s\tremaining: 7.05s\n",
      "140:\tlearn: 0.8649916\ttotal: 4.08s\tremaining: 7.03s\n",
      "141:\tlearn: 0.8651184\ttotal: 4.1s\tremaining: 6.99s\n",
      "142:\tlearn: 0.8651114\ttotal: 4.13s\tremaining: 6.96s\n",
      "143:\tlearn: 0.8651670\ttotal: 4.16s\tremaining: 6.93s\n",
      "144:\tlearn: 0.8653096\ttotal: 4.19s\tremaining: 6.9s\n",
      "145:\tlearn: 0.8653865\ttotal: 4.21s\tremaining: 6.87s\n",
      "146:\tlearn: 0.8654240\ttotal: 4.24s\tremaining: 6.84s\n",
      "147:\tlearn: 0.8655191\ttotal: 4.27s\tremaining: 6.81s\n",
      "148:\tlearn: 0.8655941\ttotal: 4.29s\tremaining: 6.77s\n",
      "149:\tlearn: 0.8656696\ttotal: 4.32s\tremaining: 6.74s\n",
      "150:\tlearn: 0.8656639\ttotal: 4.34s\tremaining: 6.7s\n",
      "151:\tlearn: 0.8656933\ttotal: 4.37s\tremaining: 6.67s\n",
      "152:\tlearn: 0.8657037\ttotal: 4.4s\tremaining: 6.64s\n",
      "153:\tlearn: 0.8657781\ttotal: 4.42s\tremaining: 6.6s\n",
      "154:\tlearn: 0.8657911\ttotal: 4.45s\tremaining: 6.57s\n",
      "155:\tlearn: 0.8658801\ttotal: 4.48s\tremaining: 6.54s\n",
      "156:\tlearn: 0.8659238\ttotal: 4.5s\tremaining: 6.51s\n",
      "157:\tlearn: 0.8659596\ttotal: 4.53s\tremaining: 6.48s\n",
      "158:\tlearn: 0.8660268\ttotal: 4.55s\tremaining: 6.44s\n",
      "159:\tlearn: 0.8661281\ttotal: 4.58s\tremaining: 6.41s\n",
      "160:\tlearn: 0.8661999\ttotal: 4.6s\tremaining: 6.37s\n",
      "161:\tlearn: 0.8662455\ttotal: 4.63s\tremaining: 6.34s\n",
      "162:\tlearn: 0.8663234\ttotal: 4.65s\tremaining: 6.31s\n",
      "163:\tlearn: 0.8663596\ttotal: 4.68s\tremaining: 6.27s\n",
      "164:\tlearn: 0.8664342\ttotal: 4.7s\tremaining: 6.24s\n",
      "165:\tlearn: 0.8664659\ttotal: 4.73s\tremaining: 6.21s\n",
      "166:\tlearn: 0.8664882\ttotal: 4.75s\tremaining: 6.18s\n",
      "167:\tlearn: 0.8665635\ttotal: 4.78s\tremaining: 6.14s\n",
      "168:\tlearn: 0.8666173\ttotal: 4.8s\tremaining: 6.11s\n",
      "169:\tlearn: 0.8666307\ttotal: 4.83s\tremaining: 6.08s\n",
      "170:\tlearn: 0.8667001\ttotal: 4.86s\tremaining: 6.05s\n",
      "171:\tlearn: 0.8667482\ttotal: 4.88s\tremaining: 6.02s\n",
      "172:\tlearn: 0.8667544\ttotal: 4.91s\tremaining: 5.99s\n",
      "173:\tlearn: 0.8667928\ttotal: 4.94s\tremaining: 5.96s\n",
      "174:\tlearn: 0.8668308\ttotal: 4.97s\tremaining: 5.93s\n",
      "175:\tlearn: 0.8668895\ttotal: 4.99s\tremaining: 5.9s\n",
      "176:\tlearn: 0.8669211\ttotal: 5.02s\tremaining: 5.87s\n",
      "177:\tlearn: 0.8670432\ttotal: 5.05s\tremaining: 5.84s\n",
      "178:\tlearn: 0.8671077\ttotal: 5.08s\tremaining: 5.81s\n",
      "179:\tlearn: 0.8671299\ttotal: 5.1s\tremaining: 5.78s\n",
      "180:\tlearn: 0.8671532\ttotal: 5.13s\tremaining: 5.75s\n",
      "181:\tlearn: 0.8671638\ttotal: 5.15s\tremaining: 5.72s\n",
      "182:\tlearn: 0.8671860\ttotal: 5.18s\tremaining: 5.69s\n",
      "183:\tlearn: 0.8672273\ttotal: 5.2s\tremaining: 5.66s\n",
      "184:\tlearn: 0.8673199\ttotal: 5.23s\tremaining: 5.63s\n",
      "185:\tlearn: 0.8673408\ttotal: 5.26s\tremaining: 5.6s\n",
      "186:\tlearn: 0.8674464\ttotal: 5.29s\tremaining: 5.57s\n",
      "187:\tlearn: 0.8675325\ttotal: 5.32s\tremaining: 5.54s\n",
      "188:\tlearn: 0.8676451\ttotal: 5.35s\tremaining: 5.52s\n",
      "189:\tlearn: 0.8676661\ttotal: 5.38s\tremaining: 5.5s\n",
      "190:\tlearn: 0.8677668\ttotal: 5.42s\tremaining: 5.48s\n",
      "191:\tlearn: 0.8678182\ttotal: 5.45s\tremaining: 5.45s\n",
      "192:\tlearn: 0.8678879\ttotal: 5.49s\tremaining: 5.43s\n",
      "193:\tlearn: 0.8679187\ttotal: 5.52s\tremaining: 5.41s\n",
      "194:\tlearn: 0.8679937\ttotal: 5.54s\tremaining: 5.37s\n",
      "195:\tlearn: 0.8680820\ttotal: 5.57s\tremaining: 5.34s\n",
      "196:\tlearn: 0.8681251\ttotal: 5.6s\tremaining: 5.31s\n",
      "197:\tlearn: 0.8681979\ttotal: 5.62s\tremaining: 5.28s\n",
      "198:\tlearn: 0.8682208\ttotal: 5.65s\tremaining: 5.25s\n",
      "199:\tlearn: 0.8683075\ttotal: 5.67s\tremaining: 5.22s\n",
      "200:\tlearn: 0.8684102\ttotal: 5.7s\tremaining: 5.19s\n",
      "201:\tlearn: 0.8684438\ttotal: 5.73s\tremaining: 5.16s\n",
      "202:\tlearn: 0.8684799\ttotal: 5.75s\tremaining: 5.13s\n",
      "203:\tlearn: 0.8685523\ttotal: 5.78s\tremaining: 5.1s\n",
      "204:\tlearn: 0.8685820\ttotal: 5.81s\tremaining: 5.07s\n",
      "205:\tlearn: 0.8686289\ttotal: 5.83s\tremaining: 5.04s\n",
      "206:\tlearn: 0.8686573\ttotal: 5.86s\tremaining: 5.01s\n",
      "207:\tlearn: 0.8686794\ttotal: 5.89s\tremaining: 4.98s\n",
      "208:\tlearn: 0.8687042\ttotal: 5.92s\tremaining: 4.95s\n",
      "209:\tlearn: 0.8687319\ttotal: 5.95s\tremaining: 4.93s\n",
      "210:\tlearn: 0.8687537\ttotal: 5.97s\tremaining: 4.9s\n",
      "211:\tlearn: 0.8687987\ttotal: 6s\tremaining: 4.87s\n",
      "212:\tlearn: 0.8688235\ttotal: 6.03s\tremaining: 4.84s\n",
      "213:\tlearn: 0.8688667\ttotal: 6.05s\tremaining: 4.81s\n",
      "214:\tlearn: 0.8689138\ttotal: 6.08s\tremaining: 4.78s\n",
      "215:\tlearn: 0.8689350\ttotal: 6.1s\tremaining: 4.75s\n",
      "216:\tlearn: 0.8689213\ttotal: 6.13s\tremaining: 4.72s\n",
      "217:\tlearn: 0.8689412\ttotal: 6.15s\tremaining: 4.69s\n",
      "218:\tlearn: 0.8689820\ttotal: 6.17s\tremaining: 4.65s\n",
      "219:\tlearn: 0.8690305\ttotal: 6.2s\tremaining: 4.62s\n",
      "220:\tlearn: 0.8690980\ttotal: 6.22s\tremaining: 4.59s\n",
      "221:\tlearn: 0.8691159\ttotal: 6.25s\tremaining: 4.56s\n",
      "222:\tlearn: 0.8691896\ttotal: 6.28s\tremaining: 4.53s\n",
      "223:\tlearn: 0.8692033\ttotal: 6.3s\tremaining: 4.5s\n",
      "224:\tlearn: 0.8693152\ttotal: 6.33s\tremaining: 4.47s\n",
      "225:\tlearn: 0.8694192\ttotal: 6.35s\tremaining: 4.44s\n",
      "226:\tlearn: 0.8694519\ttotal: 6.38s\tremaining: 4.41s\n",
      "227:\tlearn: 0.8694668\ttotal: 6.4s\tremaining: 4.38s\n",
      "228:\tlearn: 0.8695288\ttotal: 6.43s\tremaining: 4.35s\n",
      "229:\tlearn: 0.8695493\ttotal: 6.45s\tremaining: 4.32s\n",
      "230:\tlearn: 0.8695500\ttotal: 6.48s\tremaining: 4.29s\n",
      "231:\tlearn: 0.8695953\ttotal: 6.5s\tremaining: 4.26s\n",
      "232:\tlearn: 0.8695959\ttotal: 6.53s\tremaining: 4.23s\n",
      "233:\tlearn: 0.8696086\ttotal: 6.56s\tremaining: 4.2s\n",
      "234:\tlearn: 0.8697077\ttotal: 6.58s\tremaining: 4.17s\n",
      "235:\tlearn: 0.8697185\ttotal: 6.61s\tremaining: 4.14s\n",
      "236:\tlearn: 0.8697860\ttotal: 6.63s\tremaining: 4.12s\n",
      "237:\tlearn: 0.8697944\ttotal: 6.66s\tremaining: 4.09s\n",
      "238:\tlearn: 0.8698153\ttotal: 6.69s\tremaining: 4.06s\n",
      "239:\tlearn: 0.8698560\ttotal: 6.71s\tremaining: 4.03s\n",
      "240:\tlearn: 0.8699209\ttotal: 6.74s\tremaining: 4s\n",
      "241:\tlearn: 0.8699685\ttotal: 6.76s\tremaining: 3.97s\n",
      "242:\tlearn: 0.8700070\ttotal: 6.79s\tremaining: 3.94s\n",
      "243:\tlearn: 0.8700295\ttotal: 6.82s\tremaining: 3.91s\n",
      "244:\tlearn: 0.8700992\ttotal: 6.84s\tremaining: 3.88s\n",
      "245:\tlearn: 0.8701061\ttotal: 6.87s\tremaining: 3.85s\n",
      "246:\tlearn: 0.8701344\ttotal: 6.89s\tremaining: 3.82s\n",
      "247:\tlearn: 0.8701550\ttotal: 6.92s\tremaining: 3.79s\n",
      "248:\tlearn: 0.8701967\ttotal: 6.95s\tremaining: 3.77s\n",
      "249:\tlearn: 0.8702443\ttotal: 6.98s\tremaining: 3.74s\n",
      "250:\tlearn: 0.8702528\ttotal: 7.01s\tremaining: 3.72s\n",
      "251:\tlearn: 0.8702877\ttotal: 7.05s\tremaining: 3.69s\n",
      "252:\tlearn: 0.8703294\ttotal: 7.08s\tremaining: 3.67s\n",
      "253:\tlearn: 0.8703721\ttotal: 7.11s\tremaining: 3.64s\n",
      "254:\tlearn: 0.8704184\ttotal: 7.15s\tremaining: 3.62s\n",
      "255:\tlearn: 0.8704731\ttotal: 7.18s\tremaining: 3.59s\n",
      "256:\tlearn: 0.8704728\ttotal: 7.21s\tremaining: 3.56s\n",
      "257:\tlearn: 0.8705292\ttotal: 7.24s\tremaining: 3.53s\n",
      "258:\tlearn: 0.8705657\ttotal: 7.27s\tremaining: 3.51s\n",
      "259:\tlearn: 0.8706172\ttotal: 7.3s\tremaining: 3.48s\n",
      "260:\tlearn: 0.8706198\ttotal: 7.33s\tremaining: 3.45s\n",
      "261:\tlearn: 0.8706840\ttotal: 7.36s\tremaining: 3.42s\n",
      "262:\tlearn: 0.8707201\ttotal: 7.38s\tremaining: 3.4s\n",
      "263:\tlearn: 0.8707660\ttotal: 7.41s\tremaining: 3.37s\n",
      "264:\tlearn: 0.8707735\ttotal: 7.44s\tremaining: 3.34s\n",
      "265:\tlearn: 0.8707779\ttotal: 7.46s\tremaining: 3.31s\n",
      "266:\tlearn: 0.8708681\ttotal: 7.49s\tremaining: 3.28s\n",
      "267:\tlearn: 0.8709114\ttotal: 7.52s\tremaining: 3.25s\n",
      "268:\tlearn: 0.8709290\ttotal: 7.54s\tremaining: 3.22s\n",
      "269:\tlearn: 0.8709919\ttotal: 7.57s\tremaining: 3.19s\n",
      "270:\tlearn: 0.8710809\ttotal: 7.59s\tremaining: 3.16s\n",
      "271:\tlearn: 0.8711399\ttotal: 7.62s\tremaining: 3.14s\n",
      "272:\tlearn: 0.8711526\ttotal: 7.64s\tremaining: 3.11s\n",
      "273:\tlearn: 0.8712257\ttotal: 7.67s\tremaining: 3.08s\n",
      "274:\tlearn: 0.8712393\ttotal: 7.7s\tremaining: 3.05s\n",
      "275:\tlearn: 0.8712465\ttotal: 7.72s\tremaining: 3.02s\n",
      "276:\tlearn: 0.8712977\ttotal: 7.75s\tremaining: 2.99s\n",
      "277:\tlearn: 0.8713029\ttotal: 7.78s\tremaining: 2.97s\n",
      "278:\tlearn: 0.8713096\ttotal: 7.81s\tremaining: 2.94s\n",
      "279:\tlearn: 0.8713401\ttotal: 7.84s\tremaining: 2.91s\n",
      "280:\tlearn: 0.8713560\ttotal: 7.87s\tremaining: 2.88s\n",
      "281:\tlearn: 0.8714154\ttotal: 7.9s\tremaining: 2.86s\n",
      "282:\tlearn: 0.8714643\ttotal: 7.93s\tremaining: 2.83s\n",
      "283:\tlearn: 0.8714793\ttotal: 7.96s\tremaining: 2.8s\n",
      "284:\tlearn: 0.8714731\ttotal: 7.98s\tremaining: 2.77s\n",
      "285:\tlearn: 0.8715324\ttotal: 8.01s\tremaining: 2.74s\n",
      "286:\tlearn: 0.8715301\ttotal: 8.04s\tremaining: 2.72s\n",
      "287:\tlearn: 0.8715539\ttotal: 8.06s\tremaining: 2.69s\n",
      "288:\tlearn: 0.8715582\ttotal: 8.09s\tremaining: 2.66s\n",
      "289:\tlearn: 0.8715608\ttotal: 8.11s\tremaining: 2.63s\n",
      "290:\tlearn: 0.8715650\ttotal: 8.14s\tremaining: 2.6s\n",
      "291:\tlearn: 0.8716152\ttotal: 8.16s\tremaining: 2.57s\n",
      "292:\tlearn: 0.8716559\ttotal: 8.19s\tremaining: 2.54s\n",
      "293:\tlearn: 0.8717026\ttotal: 8.21s\tremaining: 2.51s\n",
      "294:\tlearn: 0.8717032\ttotal: 8.24s\tremaining: 2.49s\n",
      "295:\tlearn: 0.8717466\ttotal: 8.27s\tremaining: 2.46s\n",
      "296:\tlearn: 0.8717925\ttotal: 8.29s\tremaining: 2.43s\n",
      "297:\tlearn: 0.8718114\ttotal: 8.32s\tremaining: 2.4s\n",
      "298:\tlearn: 0.8718708\ttotal: 8.35s\tremaining: 2.37s\n",
      "299:\tlearn: 0.8719304\ttotal: 8.37s\tremaining: 2.34s\n",
      "300:\tlearn: 0.8719549\ttotal: 8.4s\tremaining: 2.31s\n",
      "301:\tlearn: 0.8719959\ttotal: 8.42s\tremaining: 2.29s\n",
      "302:\tlearn: 0.8720556\ttotal: 8.45s\tremaining: 2.26s\n",
      "303:\tlearn: 0.8720628\ttotal: 8.48s\tremaining: 2.23s\n",
      "304:\tlearn: 0.8721045\ttotal: 8.5s\tremaining: 2.2s\n",
      "305:\tlearn: 0.8721325\ttotal: 8.53s\tremaining: 2.17s\n",
      "306:\tlearn: 0.8721394\ttotal: 8.55s\tremaining: 2.15s\n",
      "307:\tlearn: 0.8721459\ttotal: 8.58s\tremaining: 2.12s\n",
      "308:\tlearn: 0.8721847\ttotal: 8.6s\tremaining: 2.09s\n",
      "309:\tlearn: 0.8722124\ttotal: 8.63s\tremaining: 2.06s\n",
      "310:\tlearn: 0.8722306\ttotal: 8.65s\tremaining: 2.03s\n",
      "311:\tlearn: 0.8722408\ttotal: 8.68s\tremaining: 2s\n",
      "312:\tlearn: 0.8722610\ttotal: 8.71s\tremaining: 1.98s\n",
      "313:\tlearn: 0.8722740\ttotal: 8.74s\tremaining: 1.95s\n",
      "314:\tlearn: 0.8722919\ttotal: 8.76s\tremaining: 1.92s\n",
      "315:\tlearn: 0.8723509\ttotal: 8.79s\tremaining: 1.89s\n",
      "316:\tlearn: 0.8723636\ttotal: 8.81s\tremaining: 1.86s\n",
      "317:\tlearn: 0.8724096\ttotal: 8.84s\tremaining: 1.83s\n",
      "318:\tlearn: 0.8724200\ttotal: 8.87s\tremaining: 1.81s\n",
      "319:\tlearn: 0.8724595\ttotal: 8.91s\tremaining: 1.78s\n",
      "320:\tlearn: 0.8724729\ttotal: 8.94s\tremaining: 1.75s\n",
      "321:\tlearn: 0.8724846\ttotal: 8.96s\tremaining: 1.73s\n",
      "322:\tlearn: 0.8724885\ttotal: 8.99s\tremaining: 1.7s\n",
      "323:\tlearn: 0.8724800\ttotal: 9.02s\tremaining: 1.67s\n",
      "324:\tlearn: 0.8724830\ttotal: 9.05s\tremaining: 1.64s\n",
      "325:\tlearn: 0.8724917\ttotal: 9.08s\tremaining: 1.61s\n",
      "326:\tlearn: 0.8725149\ttotal: 9.1s\tremaining: 1.59s\n",
      "327:\tlearn: 0.8725371\ttotal: 9.13s\tremaining: 1.56s\n",
      "328:\tlearn: 0.8725834\ttotal: 9.15s\tremaining: 1.53s\n",
      "329:\tlearn: 0.8725892\ttotal: 9.18s\tremaining: 1.5s\n",
      "330:\tlearn: 0.8726049\ttotal: 9.2s\tremaining: 1.47s\n",
      "331:\tlearn: 0.8726120\ttotal: 9.23s\tremaining: 1.45s\n",
      "332:\tlearn: 0.8726125\ttotal: 9.26s\tremaining: 1.42s\n",
      "333:\tlearn: 0.8726282\ttotal: 9.28s\tremaining: 1.39s\n",
      "334:\tlearn: 0.8726431\ttotal: 9.31s\tremaining: 1.36s\n",
      "335:\tlearn: 0.8726728\ttotal: 9.33s\tremaining: 1.33s\n",
      "336:\tlearn: 0.8727309\ttotal: 9.36s\tremaining: 1.3s\n",
      "337:\tlearn: 0.8727309\ttotal: 9.38s\tremaining: 1.28s\n",
      "338:\tlearn: 0.8727283\ttotal: 9.41s\tremaining: 1.25s\n",
      "339:\tlearn: 0.8727830\ttotal: 9.44s\tremaining: 1.22s\n",
      "340:\tlearn: 0.8727951\ttotal: 9.46s\tremaining: 1.19s\n",
      "341:\tlearn: 0.8728658\ttotal: 9.49s\tremaining: 1.16s\n",
      "342:\tlearn: 0.8728873\ttotal: 9.51s\tremaining: 1.14s\n",
      "343:\tlearn: 0.8728825\ttotal: 9.54s\tremaining: 1.11s\n",
      "344:\tlearn: 0.8728847\ttotal: 9.56s\tremaining: 1.08s\n",
      "345:\tlearn: 0.8729176\ttotal: 9.59s\tremaining: 1.05s\n",
      "346:\tlearn: 0.8729628\ttotal: 9.61s\tremaining: 1.02s\n",
      "347:\tlearn: 0.8729871\ttotal: 9.64s\tremaining: 997ms\n",
      "348:\tlearn: 0.8730272\ttotal: 9.67s\tremaining: 969ms\n",
      "349:\tlearn: 0.8730620\ttotal: 9.69s\tremaining: 942ms\n",
      "350:\tlearn: 0.8730614\ttotal: 9.72s\tremaining: 914ms\n",
      "351:\tlearn: 0.8730875\ttotal: 9.74s\tremaining: 886ms\n",
      "352:\tlearn: 0.8731709\ttotal: 9.77s\tremaining: 858ms\n",
      "353:\tlearn: 0.8731729\ttotal: 9.8s\tremaining: 830ms\n",
      "354:\tlearn: 0.8731755\ttotal: 9.82s\tremaining: 802ms\n",
      "355:\tlearn: 0.8731771\ttotal: 9.85s\tremaining: 775ms\n",
      "356:\tlearn: 0.8732443\ttotal: 9.88s\tremaining: 747ms\n",
      "357:\tlearn: 0.8732570\ttotal: 9.9s\tremaining: 719ms\n",
      "358:\tlearn: 0.8732909\ttotal: 9.94s\tremaining: 692ms\n",
      "359:\tlearn: 0.8733391\ttotal: 9.96s\tremaining: 664ms\n",
      "360:\tlearn: 0.8733727\ttotal: 9.99s\tremaining: 637ms\n",
      "361:\tlearn: 0.8733802\ttotal: 10s\tremaining: 609ms\n",
      "362:\tlearn: 0.8733968\ttotal: 10s\tremaining: 581ms\n",
      "363:\tlearn: 0.8734692\ttotal: 10.1s\tremaining: 553ms\n",
      "364:\tlearn: 0.8734793\ttotal: 10.1s\tremaining: 526ms\n",
      "365:\tlearn: 0.8734799\ttotal: 10.1s\tremaining: 498ms\n",
      "366:\tlearn: 0.8735129\ttotal: 10.1s\tremaining: 470ms\n",
      "367:\tlearn: 0.8735338\ttotal: 10.2s\tremaining: 442ms\n",
      "368:\tlearn: 0.8735471\ttotal: 10.2s\tremaining: 415ms\n",
      "369:\tlearn: 0.8735413\ttotal: 10.2s\tremaining: 387ms\n",
      "370:\tlearn: 0.8735712\ttotal: 10.3s\tremaining: 359ms\n",
      "371:\tlearn: 0.8736221\ttotal: 10.3s\tremaining: 332ms\n",
      "372:\tlearn: 0.8736661\ttotal: 10.3s\tremaining: 304ms\n",
      "373:\tlearn: 0.8736804\ttotal: 10.3s\tremaining: 276ms\n",
      "374:\tlearn: 0.8736798\ttotal: 10.4s\tremaining: 249ms\n",
      "375:\tlearn: 0.8736893\ttotal: 10.4s\tremaining: 221ms\n",
      "376:\tlearn: 0.8737421\ttotal: 10.4s\tremaining: 193ms\n",
      "377:\tlearn: 0.8737629\ttotal: 10.4s\tremaining: 166ms\n",
      "378:\tlearn: 0.8737838\ttotal: 10.5s\tremaining: 138ms\n",
      "379:\tlearn: 0.8738301\ttotal: 10.5s\tremaining: 110ms\n",
      "380:\tlearn: 0.8738548\ttotal: 10.5s\tremaining: 82.8ms\n",
      "381:\tlearn: 0.8738662\ttotal: 10.5s\tremaining: 55.2ms\n",
      "382:\tlearn: 0.8738884\ttotal: 10.6s\tremaining: 27.6ms\n",
      "383:\tlearn: 0.8739155\ttotal: 10.6s\tremaining: 0us\n"
     ]
    },
    {
     "data": {
      "text/plain": [
       "<catboost.core.CatBoostClassifier at 0x1d19ae78190>"
      ]
     },
     "execution_count": 107,
     "metadata": {},
     "output_type": "execute_result"
    }
   ],
   "source": [
    "catboost_best_params = CatBoostClassifier(cat_features=cat_cols, \n",
    "                                    task_type='GPU',\n",
    "                                    verbose=30,\n",
    "                                    eval_metric='AUC', devices='0',\n",
    "                                    **best_params)\n",
    "\n",
    "catboost_best_params.fit(X_train, y_train)"
   ]
  },
  {
   "cell_type": "code",
   "execution_count": 109,
   "metadata": {},
   "outputs": [],
   "source": [
    "preds = catboost_best_params.predict_proba(X_test)[:,1]\n",
    "score = roc_auc_score(y_test, preds)"
   ]
  },
  {
   "cell_type": "markdown",
   "metadata": {
    "id": "rf4Kjt96EEZU"
   },
   "source": [
    "Выпишите какое лучшее качество и с какими параметрами вам удалось получить"
   ]
  },
  {
   "cell_type": "code",
   "execution_count": 110,
   "metadata": {
    "id": "d2d9GolXEEZV"
   },
   "outputs": [
    {
     "data": {
      "text/plain": [
       "0.8304058286051138"
      ]
     },
     "execution_count": 110,
     "metadata": {},
     "output_type": "execute_result"
    }
   ],
   "source": [
    "score"
   ]
  },
  {
   "cell_type": "markdown",
   "metadata": {
    "id": "dDMXbvNZEEZV"
   },
   "source": [
    "# Предсказания"
   ]
  },
  {
   "cell_type": "code",
   "execution_count": null,
   "metadata": {
    "collapsed": true,
    "id": "G_P4wFNaEEZW",
    "jupyter": {
     "outputs_hidden": true
    },
    "outputId": "1fba5dfc-88e4-49e3-ed8a-afe21ae3325a",
    "tags": []
   },
   "outputs": [],
   "source": [
    "X_sub = test\n",
    "submission = pd.read_csv('./submission.csv')\n",
    "\n",
    "submission['Churn'] = catboost_best_params.predict_proba(X_sub)[:,1]\n",
    "submission.to_csv('./my_submission.csv', index=False)"
   ]
  },
  {
   "cell_type": "markdown",
   "metadata": {
    "id": "mkxjbGkVEEZc"
   },
   "source": [
    "# Kaggle (5 баллов)\n",
    "\n",
    "Как выставить баллы:\n",
    "\n",
    "1) 1 >= roc auc > 0.84 это 5 баллов\n",
    "\n",
    "2) 0.84 >= roc auc > 0.7 это 3 балла\n",
    "\n",
    "3) 0.7 >= roc auc > 0.6 это 1 балл\n",
    "\n",
    "4) 0.6 >= roc auc это 0 баллов\n",
    "\n",
    "\n",
    "Для выполнения задания необходимо выполнить следующие шаги.\n",
    "* Зарегистрироваться на платформе [kaggle.com](kaggle.com). Процесс выставления оценок будет проходить при подведении итогового рейтинга. Пожалуйста, укажите во вкладке Team -> Team name свои имя и фамилию в формате Имя_Фамилия (важно, чтобы имя и фамилия совпадали с данными на Stepik).\n",
    "* Обучить модель, получить файл с ответами в формате .csv и сдать его в конкурс. Пробуйте и экспериментируйте. Обратите внимание, что вы можете выполнять до 20 попыток сдачи на kaggle в день.\n",
    "* После окончания соревнования отправить в итоговый ноутбук с решением на степик. \n",
    "* После дедлайна проверьте посылки других участников по критериям. Для этого надо зайти на степик, скачать их ноутбук и проверить скор в соревновании."
   ]
  },
  {
   "cell_type": "markdown",
   "metadata": {},
   "source": [
    "# Danis_Zaripov Score: 0.85272"
   ]
  },
  {
   "cell_type": "markdown",
   "metadata": {},
   "source": []
  }
 ],
 "metadata": {
  "colab": {
   "collapsed_sections": [],
   "name": "baseline.ipynb",
   "provenance": []
  },
  "interpreter": {
   "hash": "7339e5e1d2f39373fcb94b3bc4eda60e1febd82c0767d412cf5681a763e46b18"
  },
  "kernelspec": {
   "display_name": "Python [conda env:root] *",
   "language": "python",
   "name": "python3"
  },
  "language_info": {
   "codemirror_mode": {
    "name": "ipython",
    "version": 3
   },
   "file_extension": ".py",
   "mimetype": "text/x-python",
   "name": "python",
   "nbconvert_exporter": "python",
   "pygments_lexer": "ipython3",
   "version": "3.8.8"
  }
 },
 "nbformat": 4,
 "nbformat_minor": 4
}
