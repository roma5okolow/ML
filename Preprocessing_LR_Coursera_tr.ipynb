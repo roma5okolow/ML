{
 "cells": [
  {
   "cell_type": "markdown",
   "source": [
    "**Корректность проверена на Python 3.6:**\r\n",
    "+ pandas 0.23.4\r\n",
    "+ numpy 1.15.4\r\n",
    "+ matplotlib 3.0.2\r\n",
    "+ sklearn 0.20.2"
   ],
   "metadata": {}
  },
  {
   "cell_type": "code",
   "execution_count": 3,
   "source": [
    "import warnings\r\n",
    "warnings.filterwarnings('ignore')"
   ],
   "outputs": [],
   "metadata": {}
  },
  {
   "cell_type": "markdown",
   "source": [
    "## Предобработка данных и логистическая регрессия для задачи бинарной классификации"
   ],
   "metadata": {}
  },
  {
   "cell_type": "markdown",
   "source": [
    "## Programming assignment"
   ],
   "metadata": {}
  },
  {
   "cell_type": "markdown",
   "source": [
    "В задании вам будет предложено ознакомиться с основными техниками предобработки данных, а так же применить их для обучения модели логистической регрессии. Ответ потребуется загрузить в соответствующую форму в виде 6 текстовых файлов."
   ],
   "metadata": {}
  },
  {
   "cell_type": "code",
   "execution_count": 11,
   "source": [
    "import pandas as pd\r\n",
    "import numpy as np\r\n",
    "import matplotlib\r\n",
    "from matplotlib import pyplot as plt\r\n",
    "matplotlib.style.use('ggplot')\r\n",
    "%matplotlib inline\r\n",
    "\r\n",
    "import warnings\r\n",
    "warnings.filterwarnings('ignore')"
   ],
   "outputs": [],
   "metadata": {}
  },
  {
   "cell_type": "markdown",
   "source": [
    "## Описание датасета"
   ],
   "metadata": {}
  },
  {
   "cell_type": "markdown",
   "source": [
    "Задача: по 38 признакам, связанных с заявкой на грант (область исследований учёных, информация по их академическому бэкграунду, размер гранта, область, в которой он выдаётся) предсказать, будет ли заявка принята. Датасет включает в себя информацию по 6000 заявкам на гранты, которые были поданы в университете Мельбурна в период с 2004 по 2008 год.\n",
    "\n",
    "Полную версию данных с большим количеством признаков можно найти на https://www.kaggle.com/c/unimelb."
   ],
   "metadata": {}
  },
  {
   "cell_type": "code",
   "execution_count": 16,
   "source": [
    "data = pd.read_csv('data.csv')\r\n",
    "data.shape"
   ],
   "outputs": [
    {
     "output_type": "execute_result",
     "data": {
      "text/plain": [
       "(6000, 39)"
      ]
     },
     "metadata": {},
     "execution_count": 16
    }
   ],
   "metadata": {}
  },
  {
   "cell_type": "code",
   "execution_count": 22,
   "source": [
    "data.describe()"
   ],
   "outputs": [
    {
     "output_type": "execute_result",
     "data": {
      "text/html": [
       "<div>\n",
       "<style scoped>\n",
       "    .dataframe tbody tr th:only-of-type {\n",
       "        vertical-align: middle;\n",
       "    }\n",
       "\n",
       "    .dataframe tbody tr th {\n",
       "        vertical-align: top;\n",
       "    }\n",
       "\n",
       "    .dataframe thead th {\n",
       "        text-align: right;\n",
       "    }\n",
       "</style>\n",
       "<table border=\"1\" class=\"dataframe\">\n",
       "  <thead>\n",
       "    <tr style=\"text-align: right;\">\n",
       "      <th></th>\n",
       "      <th>Grant.Status</th>\n",
       "      <th>RFCD.Code.1</th>\n",
       "      <th>RFCD.Percentage.1</th>\n",
       "      <th>RFCD.Code.2</th>\n",
       "      <th>RFCD.Percentage.2</th>\n",
       "      <th>RFCD.Code.3</th>\n",
       "      <th>RFCD.Percentage.3</th>\n",
       "      <th>RFCD.Code.4</th>\n",
       "      <th>RFCD.Percentage.4</th>\n",
       "      <th>RFCD.Code.5</th>\n",
       "      <th>...</th>\n",
       "      <th>Person.ID.1</th>\n",
       "      <th>Year.of.Birth.1</th>\n",
       "      <th>Dept.No..1</th>\n",
       "      <th>Faculty.No..1</th>\n",
       "      <th>Number.of.Successful.Grant.1</th>\n",
       "      <th>Number.of.Unsuccessful.Grant.1</th>\n",
       "      <th>A..1</th>\n",
       "      <th>A.1</th>\n",
       "      <th>B.1</th>\n",
       "      <th>C.1</th>\n",
       "    </tr>\n",
       "  </thead>\n",
       "  <tbody>\n",
       "    <tr>\n",
       "      <th>count</th>\n",
       "      <td>6000.000000</td>\n",
       "      <td>5583.000000</td>\n",
       "      <td>5583.000000</td>\n",
       "      <td>5583.000000</td>\n",
       "      <td>5583.000000</td>\n",
       "      <td>5583.000000</td>\n",
       "      <td>5583.000000</td>\n",
       "      <td>5583.000000</td>\n",
       "      <td>5583.000000</td>\n",
       "      <td>5583.000000</td>\n",
       "      <td>...</td>\n",
       "      <td>5.634000e+03</td>\n",
       "      <td>5633.000000</td>\n",
       "      <td>5392.000000</td>\n",
       "      <td>5389.000000</td>\n",
       "      <td>5634.000000</td>\n",
       "      <td>5634.000000</td>\n",
       "      <td>5634.000000</td>\n",
       "      <td>5634.000000</td>\n",
       "      <td>5634.000000</td>\n",
       "      <td>5634.000000</td>\n",
       "    </tr>\n",
       "    <tr>\n",
       "      <th>mean</th>\n",
       "      <td>0.456833</td>\n",
       "      <td>314368.740820</td>\n",
       "      <td>74.832348</td>\n",
       "      <td>160036.236790</td>\n",
       "      <td>17.677593</td>\n",
       "      <td>93798.049436</td>\n",
       "      <td>6.933011</td>\n",
       "      <td>6920.633172</td>\n",
       "      <td>0.437937</td>\n",
       "      <td>1867.308436</td>\n",
       "      <td>...</td>\n",
       "      <td>1.678690e+05</td>\n",
       "      <td>1962.449849</td>\n",
       "      <td>2448.531343</td>\n",
       "      <td>24.104843</td>\n",
       "      <td>1.177849</td>\n",
       "      <td>2.097977</td>\n",
       "      <td>3.950124</td>\n",
       "      <td>5.433440</td>\n",
       "      <td>4.351083</td>\n",
       "      <td>2.287362</td>\n",
       "    </tr>\n",
       "    <tr>\n",
       "      <th>std</th>\n",
       "      <td>0.498175</td>\n",
       "      <td>51332.664838</td>\n",
       "      <td>26.846703</td>\n",
       "      <td>160855.953989</td>\n",
       "      <td>19.390921</td>\n",
       "      <td>146980.148130</td>\n",
       "      <td>11.821215</td>\n",
       "      <td>46341.259274</td>\n",
       "      <td>3.152980</td>\n",
       "      <td>24521.016589</td>\n",
       "      <td>...</td>\n",
       "      <td>2.504448e+05</td>\n",
       "      <td>9.461177</td>\n",
       "      <td>742.568587</td>\n",
       "      <td>12.199908</td>\n",
       "      <td>1.533911</td>\n",
       "      <td>2.830056</td>\n",
       "      <td>7.828684</td>\n",
       "      <td>7.921006</td>\n",
       "      <td>5.917258</td>\n",
       "      <td>4.332443</td>\n",
       "    </tr>\n",
       "    <tr>\n",
       "      <th>min</th>\n",
       "      <td>0.000000</td>\n",
       "      <td>210000.000000</td>\n",
       "      <td>5.000000</td>\n",
       "      <td>0.000000</td>\n",
       "      <td>0.000000</td>\n",
       "      <td>0.000000</td>\n",
       "      <td>0.000000</td>\n",
       "      <td>0.000000</td>\n",
       "      <td>0.000000</td>\n",
       "      <td>0.000000</td>\n",
       "      <td>...</td>\n",
       "      <td>3.570000e+02</td>\n",
       "      <td>1925.000000</td>\n",
       "      <td>28.000000</td>\n",
       "      <td>1.000000</td>\n",
       "      <td>0.000000</td>\n",
       "      <td>0.000000</td>\n",
       "      <td>0.000000</td>\n",
       "      <td>0.000000</td>\n",
       "      <td>0.000000</td>\n",
       "      <td>0.000000</td>\n",
       "    </tr>\n",
       "    <tr>\n",
       "      <th>25%</th>\n",
       "      <td>0.000000</td>\n",
       "      <td>280204.000000</td>\n",
       "      <td>50.000000</td>\n",
       "      <td>0.000000</td>\n",
       "      <td>0.000000</td>\n",
       "      <td>0.000000</td>\n",
       "      <td>0.000000</td>\n",
       "      <td>0.000000</td>\n",
       "      <td>0.000000</td>\n",
       "      <td>0.000000</td>\n",
       "      <td>...</td>\n",
       "      <td>2.823200e+04</td>\n",
       "      <td>1955.000000</td>\n",
       "      <td>2298.000000</td>\n",
       "      <td>25.000000</td>\n",
       "      <td>0.000000</td>\n",
       "      <td>0.000000</td>\n",
       "      <td>0.000000</td>\n",
       "      <td>1.000000</td>\n",
       "      <td>0.000000</td>\n",
       "      <td>0.000000</td>\n",
       "    </tr>\n",
       "    <tr>\n",
       "      <th>50%</th>\n",
       "      <td>0.000000</td>\n",
       "      <td>320704.000000</td>\n",
       "      <td>80.000000</td>\n",
       "      <td>239901.000000</td>\n",
       "      <td>10.000000</td>\n",
       "      <td>0.000000</td>\n",
       "      <td>0.000000</td>\n",
       "      <td>0.000000</td>\n",
       "      <td>0.000000</td>\n",
       "      <td>0.000000</td>\n",
       "      <td>...</td>\n",
       "      <td>7.161200e+04</td>\n",
       "      <td>1965.000000</td>\n",
       "      <td>2628.000000</td>\n",
       "      <td>25.000000</td>\n",
       "      <td>1.000000</td>\n",
       "      <td>1.000000</td>\n",
       "      <td>1.000000</td>\n",
       "      <td>3.000000</td>\n",
       "      <td>2.000000</td>\n",
       "      <td>1.000000</td>\n",
       "    </tr>\n",
       "    <tr>\n",
       "      <th>75%</th>\n",
       "      <td>1.000000</td>\n",
       "      <td>321202.000000</td>\n",
       "      <td>100.000000</td>\n",
       "      <td>320702.000000</td>\n",
       "      <td>30.000000</td>\n",
       "      <td>270108.000000</td>\n",
       "      <td>10.000000</td>\n",
       "      <td>0.000000</td>\n",
       "      <td>0.000000</td>\n",
       "      <td>0.000000</td>\n",
       "      <td>...</td>\n",
       "      <td>1.154070e+05</td>\n",
       "      <td>1970.000000</td>\n",
       "      <td>2813.000000</td>\n",
       "      <td>25.000000</td>\n",
       "      <td>2.000000</td>\n",
       "      <td>3.000000</td>\n",
       "      <td>5.000000</td>\n",
       "      <td>7.000000</td>\n",
       "      <td>6.000000</td>\n",
       "      <td>3.000000</td>\n",
       "    </tr>\n",
       "    <tr>\n",
       "      <th>max</th>\n",
       "      <td>1.000000</td>\n",
       "      <td>999999.000000</td>\n",
       "      <td>100.000000</td>\n",
       "      <td>440207.000000</td>\n",
       "      <td>90.000000</td>\n",
       "      <td>440207.000000</td>\n",
       "      <td>70.000000</td>\n",
       "      <td>440202.000000</td>\n",
       "      <td>70.000000</td>\n",
       "      <td>419999.000000</td>\n",
       "      <td>...</td>\n",
       "      <td>1.145967e+06</td>\n",
       "      <td>1985.000000</td>\n",
       "      <td>4418.000000</td>\n",
       "      <td>187.000000</td>\n",
       "      <td>13.000000</td>\n",
       "      <td>24.000000</td>\n",
       "      <td>123.000000</td>\n",
       "      <td>87.000000</td>\n",
       "      <td>69.000000</td>\n",
       "      <td>61.000000</td>\n",
       "    </tr>\n",
       "  </tbody>\n",
       "</table>\n",
       "<p>8 rows × 31 columns</p>\n",
       "</div>"
      ],
      "text/plain": [
       "       Grant.Status    RFCD.Code.1  RFCD.Percentage.1    RFCD.Code.2  \\\n",
       "count   6000.000000    5583.000000        5583.000000    5583.000000   \n",
       "mean       0.456833  314368.740820          74.832348  160036.236790   \n",
       "std        0.498175   51332.664838          26.846703  160855.953989   \n",
       "min        0.000000  210000.000000           5.000000       0.000000   \n",
       "25%        0.000000  280204.000000          50.000000       0.000000   \n",
       "50%        0.000000  320704.000000          80.000000  239901.000000   \n",
       "75%        1.000000  321202.000000         100.000000  320702.000000   \n",
       "max        1.000000  999999.000000         100.000000  440207.000000   \n",
       "\n",
       "       RFCD.Percentage.2    RFCD.Code.3  RFCD.Percentage.3    RFCD.Code.4  \\\n",
       "count        5583.000000    5583.000000        5583.000000    5583.000000   \n",
       "mean           17.677593   93798.049436           6.933011    6920.633172   \n",
       "std            19.390921  146980.148130          11.821215   46341.259274   \n",
       "min             0.000000       0.000000           0.000000       0.000000   \n",
       "25%             0.000000       0.000000           0.000000       0.000000   \n",
       "50%            10.000000       0.000000           0.000000       0.000000   \n",
       "75%            30.000000  270108.000000          10.000000       0.000000   \n",
       "max            90.000000  440207.000000          70.000000  440202.000000   \n",
       "\n",
       "       RFCD.Percentage.4    RFCD.Code.5  ...   Person.ID.1  Year.of.Birth.1  \\\n",
       "count        5583.000000    5583.000000  ...  5.634000e+03      5633.000000   \n",
       "mean            0.437937    1867.308436  ...  1.678690e+05      1962.449849   \n",
       "std             3.152980   24521.016589  ...  2.504448e+05         9.461177   \n",
       "min             0.000000       0.000000  ...  3.570000e+02      1925.000000   \n",
       "25%             0.000000       0.000000  ...  2.823200e+04      1955.000000   \n",
       "50%             0.000000       0.000000  ...  7.161200e+04      1965.000000   \n",
       "75%             0.000000       0.000000  ...  1.154070e+05      1970.000000   \n",
       "max            70.000000  419999.000000  ...  1.145967e+06      1985.000000   \n",
       "\n",
       "        Dept.No..1  Faculty.No..1  Number.of.Successful.Grant.1  \\\n",
       "count  5392.000000    5389.000000                   5634.000000   \n",
       "mean   2448.531343      24.104843                      1.177849   \n",
       "std     742.568587      12.199908                      1.533911   \n",
       "min      28.000000       1.000000                      0.000000   \n",
       "25%    2298.000000      25.000000                      0.000000   \n",
       "50%    2628.000000      25.000000                      1.000000   \n",
       "75%    2813.000000      25.000000                      2.000000   \n",
       "max    4418.000000     187.000000                     13.000000   \n",
       "\n",
       "       Number.of.Unsuccessful.Grant.1         A..1          A.1          B.1  \\\n",
       "count                     5634.000000  5634.000000  5634.000000  5634.000000   \n",
       "mean                         2.097977     3.950124     5.433440     4.351083   \n",
       "std                          2.830056     7.828684     7.921006     5.917258   \n",
       "min                          0.000000     0.000000     0.000000     0.000000   \n",
       "25%                          0.000000     0.000000     1.000000     0.000000   \n",
       "50%                          1.000000     1.000000     3.000000     2.000000   \n",
       "75%                          3.000000     5.000000     7.000000     6.000000   \n",
       "max                         24.000000   123.000000    87.000000    69.000000   \n",
       "\n",
       "               C.1  \n",
       "count  5634.000000  \n",
       "mean      2.287362  \n",
       "std       4.332443  \n",
       "min       0.000000  \n",
       "25%       0.000000  \n",
       "50%       1.000000  \n",
       "75%       3.000000  \n",
       "max      61.000000  \n",
       "\n",
       "[8 rows x 31 columns]"
      ]
     },
     "metadata": {},
     "execution_count": 22
    }
   ],
   "metadata": {}
  },
  {
   "cell_type": "markdown",
   "source": [
    "Выделим из датасета целевую переменную Grant.Status и обозначим её за y\n",
    "Теперь X обозначает обучающую выборку, y - ответы на ней"
   ],
   "metadata": {}
  },
  {
   "cell_type": "code",
   "execution_count": 65,
   "source": [
    "X = data.drop('Grant.Status', 1)\r\n",
    "y = data['Grant.Status']\r\n",
    "y.head()"
   ],
   "outputs": [
    {
     "output_type": "execute_result",
     "data": {
      "text/plain": [
       "0    1\n",
       "1    1\n",
       "2    0\n",
       "3    0\n",
       "4    0\n",
       "Name: Grant.Status, dtype: int64"
      ]
     },
     "metadata": {},
     "execution_count": 65
    }
   ],
   "metadata": {}
  },
  {
   "cell_type": "markdown",
   "source": [
    "## Теория по логистической регрессии"
   ],
   "metadata": {}
  },
  {
   "cell_type": "markdown",
   "source": [
    "После осознания того, какую именно задачу требуется решить на этих данных, следующим шагом при реальном анализе был бы подбор подходящего метода. В данном задании выбор метода было произведён за вас, это логистическая регрессия. Кратко напомним вам используемую модель.\n",
    "\n",
    "Логистическая регрессия предсказывает вероятности принадлежности объекта к каждому классу. Сумма ответов логистической регрессии на одном объекте для всех классов равна единице.\n",
    "\n",
    "$$ \\sum_{k=1}^K \\pi_{ik} = 1, \\quad \\pi_k \\equiv P\\,(y_i = k \\mid x_i, \\theta), $$\n",
    "\n",
    "где:\n",
    "- $\\pi_{ik}$ - вероятность принадлежности объекта $x_i$ из выборки $X$ к классу $k$\n",
    "- $\\theta$ - внутренние параметры алгоритма, которые настраиваются в процессе обучения, в случае логистической регрессии - $w, b$\n",
    "\n",
    "Из этого свойства модели в случае бинарной классификации требуется вычислить лишь вероятность принадлежности объекта к одному из классов (вторая вычисляется из условия нормировки вероятностей). Эта вероятность вычисляется, используя логистическую функцию:\n",
    "\n",
    "$$ P\\,(y_i = 1 \\mid x_i, \\theta) = \\frac{1}{1 + \\exp(-w^T x_i-b)} $$\n",
    "\n",
    "Параметры $w$ и $b$ находятся, как решения следующей задачи оптимизации (указаны функционалы с L1 и L2 регуляризацией, с которыми вы познакомились в предыдущих заданиях):\n",
    "\n",
    "L2-regularization:\n",
    "\n",
    "$$ Q(X, y, \\theta) = \\frac{1}{2} w^T w + C \\sum_{i=1}^l \\log ( 1 + \\exp(-y_i (w^T x_i + b ) ) ) \\longrightarrow \\min\\limits_{w,b} $$\n",
    "\n",
    "L1-regularization:\n",
    "\n",
    "$$ Q(X, y, \\theta) = \\sum_{d=1}^D |w_d| + C \\sum_{i=1}^l \\log ( 1 + \\exp(-y_i (w^T x_i + b ) ) ) \\longrightarrow \\min\\limits_{w,b} $$\n",
    "\n",
    "$C$ - это стандартный гиперпараметр модели, который регулирует то, насколько сильно мы позволяем модели подстраиваться под данные."
   ],
   "metadata": {}
  },
  {
   "cell_type": "markdown",
   "source": [
    "## Предобработка данных"
   ],
   "metadata": {}
  },
  {
   "cell_type": "markdown",
   "source": [
    "Из свойств данной модели следует, что:\n",
    "- все $X$ должны быть числовыми данными (в случае наличия среди них категорий, их требуется некоторым способом преобразовать в вещественные числа)\n",
    "- среди $X$ не должно быть пропущенных значений (т.е. все пропущенные значения перед применением модели следует каким-то образом заполнить)\n",
    "\n",
    "Поэтому базовым этапом в предобработке любого датасета для логистической регрессии будет кодирование категориальных признаков, а так же удаление или интерпретация пропущенных значений (при наличии того или другого)."
   ],
   "metadata": {}
  },
  {
   "cell_type": "code",
   "execution_count": 24,
   "source": [
    "data.head()"
   ],
   "outputs": [
    {
     "output_type": "execute_result",
     "data": {
      "text/html": [
       "<div>\n",
       "<style scoped>\n",
       "    .dataframe tbody tr th:only-of-type {\n",
       "        vertical-align: middle;\n",
       "    }\n",
       "\n",
       "    .dataframe tbody tr th {\n",
       "        vertical-align: top;\n",
       "    }\n",
       "\n",
       "    .dataframe thead th {\n",
       "        text-align: right;\n",
       "    }\n",
       "</style>\n",
       "<table border=\"1\" class=\"dataframe\">\n",
       "  <thead>\n",
       "    <tr style=\"text-align: right;\">\n",
       "      <th></th>\n",
       "      <th>Grant.Status</th>\n",
       "      <th>Sponsor.Code</th>\n",
       "      <th>Grant.Category.Code</th>\n",
       "      <th>Contract.Value.Band...see.note.A</th>\n",
       "      <th>RFCD.Code.1</th>\n",
       "      <th>RFCD.Percentage.1</th>\n",
       "      <th>RFCD.Code.2</th>\n",
       "      <th>RFCD.Percentage.2</th>\n",
       "      <th>RFCD.Code.3</th>\n",
       "      <th>RFCD.Percentage.3</th>\n",
       "      <th>...</th>\n",
       "      <th>Dept.No..1</th>\n",
       "      <th>Faculty.No..1</th>\n",
       "      <th>With.PHD.1</th>\n",
       "      <th>No..of.Years.in.Uni.at.Time.of.Grant.1</th>\n",
       "      <th>Number.of.Successful.Grant.1</th>\n",
       "      <th>Number.of.Unsuccessful.Grant.1</th>\n",
       "      <th>A..1</th>\n",
       "      <th>A.1</th>\n",
       "      <th>B.1</th>\n",
       "      <th>C.1</th>\n",
       "    </tr>\n",
       "  </thead>\n",
       "  <tbody>\n",
       "    <tr>\n",
       "      <th>0</th>\n",
       "      <td>1</td>\n",
       "      <td>21A</td>\n",
       "      <td>50A</td>\n",
       "      <td>A</td>\n",
       "      <td>230202.0</td>\n",
       "      <td>50.0</td>\n",
       "      <td>230203.0</td>\n",
       "      <td>30.0</td>\n",
       "      <td>230204.0</td>\n",
       "      <td>20.0</td>\n",
       "      <td>...</td>\n",
       "      <td>3098.0</td>\n",
       "      <td>31.0</td>\n",
       "      <td>Yes</td>\n",
       "      <td>&gt;=0 to 5</td>\n",
       "      <td>2.0</td>\n",
       "      <td>0.0</td>\n",
       "      <td>0.0</td>\n",
       "      <td>4.0</td>\n",
       "      <td>2.0</td>\n",
       "      <td>0.0</td>\n",
       "    </tr>\n",
       "    <tr>\n",
       "      <th>1</th>\n",
       "      <td>1</td>\n",
       "      <td>4D</td>\n",
       "      <td>10A</td>\n",
       "      <td>D</td>\n",
       "      <td>320801.0</td>\n",
       "      <td>100.0</td>\n",
       "      <td>0.0</td>\n",
       "      <td>0.0</td>\n",
       "      <td>0.0</td>\n",
       "      <td>0.0</td>\n",
       "      <td>...</td>\n",
       "      <td>2553.0</td>\n",
       "      <td>25.0</td>\n",
       "      <td>Yes</td>\n",
       "      <td>&gt;=0 to 5</td>\n",
       "      <td>3.0</td>\n",
       "      <td>1.0</td>\n",
       "      <td>0.0</td>\n",
       "      <td>2.0</td>\n",
       "      <td>0.0</td>\n",
       "      <td>0.0</td>\n",
       "    </tr>\n",
       "    <tr>\n",
       "      <th>2</th>\n",
       "      <td>0</td>\n",
       "      <td>NaN</td>\n",
       "      <td>NaN</td>\n",
       "      <td>NaN</td>\n",
       "      <td>320602.0</td>\n",
       "      <td>50.0</td>\n",
       "      <td>321004.0</td>\n",
       "      <td>30.0</td>\n",
       "      <td>321015.0</td>\n",
       "      <td>20.0</td>\n",
       "      <td>...</td>\n",
       "      <td>2813.0</td>\n",
       "      <td>25.0</td>\n",
       "      <td>NaN</td>\n",
       "      <td>Less than 0</td>\n",
       "      <td>1.0</td>\n",
       "      <td>5.0</td>\n",
       "      <td>0.0</td>\n",
       "      <td>7.0</td>\n",
       "      <td>2.0</td>\n",
       "      <td>0.0</td>\n",
       "    </tr>\n",
       "    <tr>\n",
       "      <th>3</th>\n",
       "      <td>0</td>\n",
       "      <td>51C</td>\n",
       "      <td>20C</td>\n",
       "      <td>A</td>\n",
       "      <td>291503.0</td>\n",
       "      <td>60.0</td>\n",
       "      <td>321402.0</td>\n",
       "      <td>40.0</td>\n",
       "      <td>0.0</td>\n",
       "      <td>0.0</td>\n",
       "      <td>...</td>\n",
       "      <td>2553.0</td>\n",
       "      <td>25.0</td>\n",
       "      <td>NaN</td>\n",
       "      <td>more than 15</td>\n",
       "      <td>2.0</td>\n",
       "      <td>1.0</td>\n",
       "      <td>5.0</td>\n",
       "      <td>6.0</td>\n",
       "      <td>9.0</td>\n",
       "      <td>1.0</td>\n",
       "    </tr>\n",
       "    <tr>\n",
       "      <th>4</th>\n",
       "      <td>0</td>\n",
       "      <td>24D</td>\n",
       "      <td>30B</td>\n",
       "      <td>NaN</td>\n",
       "      <td>380107.0</td>\n",
       "      <td>100.0</td>\n",
       "      <td>0.0</td>\n",
       "      <td>0.0</td>\n",
       "      <td>0.0</td>\n",
       "      <td>0.0</td>\n",
       "      <td>...</td>\n",
       "      <td>2923.0</td>\n",
       "      <td>25.0</td>\n",
       "      <td>NaN</td>\n",
       "      <td>Less than 0</td>\n",
       "      <td>0.0</td>\n",
       "      <td>2.0</td>\n",
       "      <td>0.0</td>\n",
       "      <td>0.0</td>\n",
       "      <td>0.0</td>\n",
       "      <td>0.0</td>\n",
       "    </tr>\n",
       "  </tbody>\n",
       "</table>\n",
       "<p>5 rows × 39 columns</p>\n",
       "</div>"
      ],
      "text/plain": [
       "   Grant.Status Sponsor.Code Grant.Category.Code  \\\n",
       "0             1          21A                 50A   \n",
       "1             1           4D                 10A   \n",
       "2             0          NaN                 NaN   \n",
       "3             0          51C                 20C   \n",
       "4             0          24D                 30B   \n",
       "\n",
       "  Contract.Value.Band...see.note.A  RFCD.Code.1  RFCD.Percentage.1  \\\n",
       "0                               A      230202.0               50.0   \n",
       "1                               D      320801.0              100.0   \n",
       "2                              NaN     320602.0               50.0   \n",
       "3                               A      291503.0               60.0   \n",
       "4                              NaN     380107.0              100.0   \n",
       "\n",
       "   RFCD.Code.2  RFCD.Percentage.2  RFCD.Code.3  RFCD.Percentage.3  ...  \\\n",
       "0     230203.0               30.0     230204.0               20.0  ...   \n",
       "1          0.0                0.0          0.0                0.0  ...   \n",
       "2     321004.0               30.0     321015.0               20.0  ...   \n",
       "3     321402.0               40.0          0.0                0.0  ...   \n",
       "4          0.0                0.0          0.0                0.0  ...   \n",
       "\n",
       "   Dept.No..1  Faculty.No..1  With.PHD.1  \\\n",
       "0      3098.0           31.0        Yes    \n",
       "1      2553.0           25.0        Yes    \n",
       "2      2813.0           25.0         NaN   \n",
       "3      2553.0           25.0         NaN   \n",
       "4      2923.0           25.0         NaN   \n",
       "\n",
       "   No..of.Years.in.Uni.at.Time.of.Grant.1  Number.of.Successful.Grant.1  \\\n",
       "0                                >=0 to 5                           2.0   \n",
       "1                                >=0 to 5                           3.0   \n",
       "2                             Less than 0                           1.0   \n",
       "3                            more than 15                           2.0   \n",
       "4                             Less than 0                           0.0   \n",
       "\n",
       "   Number.of.Unsuccessful.Grant.1  A..1  A.1  B.1  C.1  \n",
       "0                             0.0   0.0  4.0  2.0  0.0  \n",
       "1                             1.0   0.0  2.0  0.0  0.0  \n",
       "2                             5.0   0.0  7.0  2.0  0.0  \n",
       "3                             1.0   5.0  6.0  9.0  1.0  \n",
       "4                             2.0   0.0  0.0  0.0  0.0  \n",
       "\n",
       "[5 rows x 39 columns]"
      ]
     },
     "metadata": {},
     "execution_count": 24
    }
   ],
   "metadata": {}
  },
  {
   "cell_type": "markdown",
   "source": [
    "Видно, что в датасете есть как числовые, так и категориальные признаки. Получим списки их названий:"
   ],
   "metadata": {}
  },
  {
   "cell_type": "code",
   "execution_count": 25,
   "source": [
    "numeric_cols = ['RFCD.Percentage.1', 'RFCD.Percentage.2', 'RFCD.Percentage.3', \r\n",
    "                'RFCD.Percentage.4', 'RFCD.Percentage.5',\r\n",
    "                'SEO.Percentage.1', 'SEO.Percentage.2', 'SEO.Percentage.3',\r\n",
    "                'SEO.Percentage.4', 'SEO.Percentage.5',\r\n",
    "                'Year.of.Birth.1', 'Number.of.Successful.Grant.1', 'Number.of.Unsuccessful.Grant.1']\r\n",
    "categorical_cols = list(set(X.columns.values.tolist()) - set(numeric_cols))"
   ],
   "outputs": [],
   "metadata": {}
  },
  {
   "cell_type": "code",
   "execution_count": 28,
   "source": [
    "#training to subtract sets\r\n",
    "a77 = set('abcdefg')\r\n",
    "b77 = set('abcd')\r\n",
    "print(a77-b77, list(a77-b77))"
   ],
   "outputs": [
    {
     "output_type": "stream",
     "name": "stdout",
     "text": [
      "{'f', 'e', 'g'} ['f', 'e', 'g']\n"
     ]
    }
   ],
   "metadata": {}
  },
  {
   "cell_type": "markdown",
   "source": [
    "Также в нём присутствуют пропущенные значения. Очевидны решением будет исключение всех данных, у которых пропущено хотя бы одно значение. Сделаем это:"
   ],
   "metadata": {}
  },
  {
   "cell_type": "code",
   "execution_count": 29,
   "source": [
    "data.dropna().shape"
   ],
   "outputs": [
    {
     "output_type": "execute_result",
     "data": {
      "text/plain": [
       "(213, 39)"
      ]
     },
     "metadata": {},
     "execution_count": 29
    }
   ],
   "metadata": {}
  },
  {
   "cell_type": "markdown",
   "source": [
    "Видно, что тогда мы выбросим почти все данные, и такой метод решения в данном случае не сработает.\n",
    "\n",
    "Пропущенные значения можно так же интерпретировать, для этого существует несколько способов, они различаются для категориальных и вещественных признаков.\n",
    "\n",
    "Для вещественных признаков:\n",
    "- заменить на 0 (данный признак давать вклад в предсказание для данного объекта не будет)\n",
    "- заменить на среднее (каждый пропущенный признак будет давать такой же вклад, как и среднее значение признака на датасете)\n",
    "\n",
    "Для категориальных:\n",
    "- интерпретировать пропущенное значение, как ещё одну категорию (данный способ является самым естественным, так как в случае категорий у нас есть уникальная возможность не потерять информацию о наличии пропущенных значений; обратите внимание, что в случае вещественных признаков данная информация неизбежно теряется)"
   ],
   "metadata": {}
  },
  {
   "cell_type": "markdown",
   "source": [
    "##  Задание 0. Обработка пропущенных значений.\r\n",
    "1. Заполните пропущенные вещественные значения в X нулями и средними по столбцам, назовите полученные датафреймы X_real_zeros и X_real_mean соответственно. Для подсчёта средних используйте описанную ниже функцию calculate_means, которой требуется передать на вход вешественные признаки из исходного датафрейма. **Для подсчета среднего можно использовать функцию pandas.mean()**\r\n",
    "2. Все категориальные признаки в X преобразуйте в строки, пропущенные значения требуется также преобразовать в какие-либо строки, которые не являются категориями (например, 'NA'), полученный датафрейм назовите X_cat.\r\n",
    "\r\n",
    "Для объединения выборок здесь и далее в задании рекомендуется использовать функции\r\n",
    "\r\n",
    "    np.hstack(...)\r\n",
    "    np.vstack(...)"
   ],
   "metadata": {}
  },
  {
   "cell_type": "code",
   "execution_count": 30,
   "source": [
    "def calculate_means(numeric_data):\r\n",
    "    means = np.zeros(numeric_data.shape[1])\r\n",
    "    for j in range(numeric_data.shape[1]):\r\n",
    "        to_sum = numeric_data.iloc[:,j]\r\n",
    "        indices = np.nonzero(~np.array(numeric_data.iloc[:,j].isnull()))[0]\r\n",
    "        correction = np.amax(to_sum[indices])\r\n",
    "        to_sum /= correction\r\n",
    "        for i in indices:\r\n",
    "            means[j] += to_sum[i]\r\n",
    "        means[j] /= indices.size\r\n",
    "        means[j] *= correction\r\n",
    "    return pd.Series(means, numeric_data.columns)"
   ],
   "outputs": [],
   "metadata": {}
  },
  {
   "cell_type": "code",
   "execution_count": 55,
   "source": [
    "X_real = X[numeric_cols]\r\n",
    "means = calculate_means(X_real.copy())\r\n",
    "X_real_zeros = X_real.fillna(0)\r\n",
    "X_real_mean = X_real.fillna(means)"
   ],
   "outputs": [
    {
     "output_type": "stream",
     "name": "stdout",
     "text": [
      "      RFCD.Percentage.1  RFCD.Percentage.2  RFCD.Percentage.3  \\\n",
      "0                  50.0               30.0               20.0   \n",
      "1                 100.0                0.0                0.0   \n",
      "2                  50.0               30.0               20.0   \n",
      "3                  60.0               40.0                0.0   \n",
      "4                 100.0                0.0                0.0   \n",
      "...                 ...                ...                ...   \n",
      "5995               50.0               30.0               20.0   \n",
      "5996                0.0                0.0                0.0   \n",
      "5997               40.0               40.0               20.0   \n",
      "5998                0.0                0.0                0.0   \n",
      "5999              100.0                0.0                0.0   \n",
      "\n",
      "      RFCD.Percentage.4  RFCD.Percentage.5  SEO.Percentage.1  \\\n",
      "0                   0.0                0.0             100.0   \n",
      "1                   0.0                0.0             100.0   \n",
      "2                   0.0                0.0              60.0   \n",
      "3                   0.0                0.0              60.0   \n",
      "4                   0.0                0.0              50.0   \n",
      "...                 ...                ...               ...   \n",
      "5995                0.0                0.0              50.0   \n",
      "5996                0.0                0.0               0.0   \n",
      "5997                0.0                0.0              40.0   \n",
      "5998                0.0                0.0               0.0   \n",
      "5999                0.0                0.0              95.0   \n",
      "\n",
      "      SEO.Percentage.2  SEO.Percentage.3  SEO.Percentage.4  SEO.Percentage.5  \\\n",
      "0                  0.0               0.0               0.0               0.0   \n",
      "1                  0.0               0.0               0.0               0.0   \n",
      "2                 20.0              20.0               0.0               0.0   \n",
      "3                 40.0               0.0               0.0               0.0   \n",
      "4                 50.0               0.0               0.0               0.0   \n",
      "...                ...               ...               ...               ...   \n",
      "5995              30.0              20.0               0.0               0.0   \n",
      "5996               0.0               0.0               0.0               0.0   \n",
      "5997              40.0              20.0               0.0               0.0   \n",
      "5998               0.0               0.0               0.0               0.0   \n",
      "5999               5.0               0.0               0.0               0.0   \n",
      "\n",
      "      Year.of.Birth.1  Number.of.Successful.Grant.1  \\\n",
      "0              1965.0                           2.0   \n",
      "1              1965.0                           3.0   \n",
      "2              1955.0                           1.0   \n",
      "3              1950.0                           2.0   \n",
      "4              1970.0                           0.0   \n",
      "...               ...                           ...   \n",
      "5995           1970.0                           2.0   \n",
      "5996           1975.0                           0.0   \n",
      "5997           1955.0                           3.0   \n",
      "5998           1950.0                           0.0   \n",
      "5999           1965.0                           0.0   \n",
      "\n",
      "      Number.of.Unsuccessful.Grant.1  \n",
      "0                                0.0  \n",
      "1                                1.0  \n",
      "2                                5.0  \n",
      "3                                1.0  \n",
      "4                                2.0  \n",
      "...                              ...  \n",
      "5995                             0.0  \n",
      "5996                             0.0  \n",
      "5997                             3.0  \n",
      "5998                             0.0  \n",
      "5999                             2.0  \n",
      "\n",
      "[6000 rows x 13 columns]\n"
     ]
    }
   ],
   "metadata": {}
  },
  {
   "cell_type": "code",
   "execution_count": 33,
   "source": [
    "X_cat = X[categorical_cols].fillna('NA')\r\n",
    "X_cat.head(10)\r\n"
   ],
   "outputs": [
    {
     "output_type": "execute_result",
     "data": {
      "text/html": [
       "<div>\n",
       "<style scoped>\n",
       "    .dataframe tbody tr th:only-of-type {\n",
       "        vertical-align: middle;\n",
       "    }\n",
       "\n",
       "    .dataframe tbody tr th {\n",
       "        vertical-align: top;\n",
       "    }\n",
       "\n",
       "    .dataframe thead th {\n",
       "        text-align: right;\n",
       "    }\n",
       "</style>\n",
       "<table border=\"1\" class=\"dataframe\">\n",
       "  <thead>\n",
       "    <tr style=\"text-align: right;\">\n",
       "      <th></th>\n",
       "      <th>B.1</th>\n",
       "      <th>Sponsor.Code</th>\n",
       "      <th>No..of.Years.in.Uni.at.Time.of.Grant.1</th>\n",
       "      <th>SEO.Code.1</th>\n",
       "      <th>RFCD.Code.4</th>\n",
       "      <th>Faculty.No..1</th>\n",
       "      <th>Home.Language.1</th>\n",
       "      <th>SEO.Code.4</th>\n",
       "      <th>RFCD.Code.1</th>\n",
       "      <th>Contract.Value.Band...see.note.A</th>\n",
       "      <th>...</th>\n",
       "      <th>A..1</th>\n",
       "      <th>Grant.Category.Code</th>\n",
       "      <th>RFCD.Code.3</th>\n",
       "      <th>SEO.Code.3</th>\n",
       "      <th>SEO.Code.2</th>\n",
       "      <th>C.1</th>\n",
       "      <th>Person.ID.1</th>\n",
       "      <th>Role.1</th>\n",
       "      <th>RFCD.Code.2</th>\n",
       "      <th>SEO.Code.5</th>\n",
       "    </tr>\n",
       "  </thead>\n",
       "  <tbody>\n",
       "    <tr>\n",
       "      <th>0</th>\n",
       "      <td>2.0</td>\n",
       "      <td>21A</td>\n",
       "      <td>&gt;=0 to 5</td>\n",
       "      <td>780101.0</td>\n",
       "      <td>0.0</td>\n",
       "      <td>31.0</td>\n",
       "      <td>NA</td>\n",
       "      <td>0.0</td>\n",
       "      <td>230202.0</td>\n",
       "      <td>A</td>\n",
       "      <td>...</td>\n",
       "      <td>0.0</td>\n",
       "      <td>50A</td>\n",
       "      <td>230204.0</td>\n",
       "      <td>0.0</td>\n",
       "      <td>0.0</td>\n",
       "      <td>0.0</td>\n",
       "      <td>493297.0</td>\n",
       "      <td>CHIEF_INVESTIGATOR</td>\n",
       "      <td>230203.0</td>\n",
       "      <td>0.0</td>\n",
       "    </tr>\n",
       "    <tr>\n",
       "      <th>1</th>\n",
       "      <td>0.0</td>\n",
       "      <td>4D</td>\n",
       "      <td>&gt;=0 to 5</td>\n",
       "      <td>730112.0</td>\n",
       "      <td>0.0</td>\n",
       "      <td>25.0</td>\n",
       "      <td>NA</td>\n",
       "      <td>0.0</td>\n",
       "      <td>320801.0</td>\n",
       "      <td>D</td>\n",
       "      <td>...</td>\n",
       "      <td>0.0</td>\n",
       "      <td>10A</td>\n",
       "      <td>0.0</td>\n",
       "      <td>0.0</td>\n",
       "      <td>0.0</td>\n",
       "      <td>0.0</td>\n",
       "      <td>330592.0</td>\n",
       "      <td>CHIEF_INVESTIGATOR</td>\n",
       "      <td>0.0</td>\n",
       "      <td>0.0</td>\n",
       "    </tr>\n",
       "    <tr>\n",
       "      <th>2</th>\n",
       "      <td>2.0</td>\n",
       "      <td>NA</td>\n",
       "      <td>Less than 0</td>\n",
       "      <td>730203.0</td>\n",
       "      <td>0.0</td>\n",
       "      <td>25.0</td>\n",
       "      <td>NA</td>\n",
       "      <td>0.0</td>\n",
       "      <td>320602.0</td>\n",
       "      <td>NA</td>\n",
       "      <td>...</td>\n",
       "      <td>0.0</td>\n",
       "      <td>NA</td>\n",
       "      <td>321015.0</td>\n",
       "      <td>730108.0</td>\n",
       "      <td>730105.0</td>\n",
       "      <td>0.0</td>\n",
       "      <td>66887.0</td>\n",
       "      <td>CHIEF_INVESTIGATOR</td>\n",
       "      <td>321004.0</td>\n",
       "      <td>0.0</td>\n",
       "    </tr>\n",
       "    <tr>\n",
       "      <th>3</th>\n",
       "      <td>9.0</td>\n",
       "      <td>51C</td>\n",
       "      <td>more than 15</td>\n",
       "      <td>730114.0</td>\n",
       "      <td>0.0</td>\n",
       "      <td>25.0</td>\n",
       "      <td>NA</td>\n",
       "      <td>0.0</td>\n",
       "      <td>291503.0</td>\n",
       "      <td>A</td>\n",
       "      <td>...</td>\n",
       "      <td>5.0</td>\n",
       "      <td>20C</td>\n",
       "      <td>0.0</td>\n",
       "      <td>0.0</td>\n",
       "      <td>671401.0</td>\n",
       "      <td>1.0</td>\n",
       "      <td>63812.0</td>\n",
       "      <td>CHIEF_INVESTIGATOR</td>\n",
       "      <td>321402.0</td>\n",
       "      <td>0.0</td>\n",
       "    </tr>\n",
       "    <tr>\n",
       "      <th>4</th>\n",
       "      <td>0.0</td>\n",
       "      <td>24D</td>\n",
       "      <td>Less than 0</td>\n",
       "      <td>730108.0</td>\n",
       "      <td>0.0</td>\n",
       "      <td>25.0</td>\n",
       "      <td>NA</td>\n",
       "      <td>0.0</td>\n",
       "      <td>380107.0</td>\n",
       "      <td>NA</td>\n",
       "      <td>...</td>\n",
       "      <td>0.0</td>\n",
       "      <td>30B</td>\n",
       "      <td>0.0</td>\n",
       "      <td>0.0</td>\n",
       "      <td>730306.0</td>\n",
       "      <td>0.0</td>\n",
       "      <td>13687.0</td>\n",
       "      <td>CHIEF_INVESTIGATOR</td>\n",
       "      <td>0.0</td>\n",
       "      <td>0.0</td>\n",
       "    </tr>\n",
       "    <tr>\n",
       "      <th>5</th>\n",
       "      <td>0.0</td>\n",
       "      <td>288D</td>\n",
       "      <td>&gt;=0 to 5</td>\n",
       "      <td>730211.0</td>\n",
       "      <td>0.0</td>\n",
       "      <td>25.0</td>\n",
       "      <td>NA</td>\n",
       "      <td>0.0</td>\n",
       "      <td>321105.0</td>\n",
       "      <td>A</td>\n",
       "      <td>...</td>\n",
       "      <td>0.0</td>\n",
       "      <td>30B</td>\n",
       "      <td>0.0</td>\n",
       "      <td>0.0</td>\n",
       "      <td>730302.0</td>\n",
       "      <td>2.0</td>\n",
       "      <td>574367.0</td>\n",
       "      <td>CHIEF_INVESTIGATOR</td>\n",
       "      <td>0.0</td>\n",
       "      <td>0.0</td>\n",
       "    </tr>\n",
       "    <tr>\n",
       "      <th>6</th>\n",
       "      <td>6.0</td>\n",
       "      <td>21A</td>\n",
       "      <td>&gt;5 to 10</td>\n",
       "      <td>749903.0</td>\n",
       "      <td>0.0</td>\n",
       "      <td>7.0</td>\n",
       "      <td>NA</td>\n",
       "      <td>0.0</td>\n",
       "      <td>380205.0</td>\n",
       "      <td>A</td>\n",
       "      <td>...</td>\n",
       "      <td>1.0</td>\n",
       "      <td>50A</td>\n",
       "      <td>380102.0</td>\n",
       "      <td>750309.0</td>\n",
       "      <td>740102.0</td>\n",
       "      <td>0.0</td>\n",
       "      <td>4762.0</td>\n",
       "      <td>CHIEF_INVESTIGATOR</td>\n",
       "      <td>379902.0</td>\n",
       "      <td>0.0</td>\n",
       "    </tr>\n",
       "    <tr>\n",
       "      <th>7</th>\n",
       "      <td>3.0</td>\n",
       "      <td>2B</td>\n",
       "      <td>more than 15</td>\n",
       "      <td>751003.0</td>\n",
       "      <td>0.0</td>\n",
       "      <td>7.0</td>\n",
       "      <td>NA</td>\n",
       "      <td>0.0</td>\n",
       "      <td>410302.0</td>\n",
       "      <td>D</td>\n",
       "      <td>...</td>\n",
       "      <td>0.0</td>\n",
       "      <td>10A</td>\n",
       "      <td>379999.0</td>\n",
       "      <td>750701.0</td>\n",
       "      <td>750901.0</td>\n",
       "      <td>2.0</td>\n",
       "      <td>82442.0</td>\n",
       "      <td>CHIEF_INVESTIGATOR</td>\n",
       "      <td>420306.0</td>\n",
       "      <td>0.0</td>\n",
       "    </tr>\n",
       "    <tr>\n",
       "      <th>8</th>\n",
       "      <td>NA</td>\n",
       "      <td>34B</td>\n",
       "      <td>NA</td>\n",
       "      <td>770703.0</td>\n",
       "      <td>0.0</td>\n",
       "      <td>NA</td>\n",
       "      <td>NA</td>\n",
       "      <td>0.0</td>\n",
       "      <td>270401.0</td>\n",
       "      <td>A</td>\n",
       "      <td>...</td>\n",
       "      <td>NA</td>\n",
       "      <td>30C</td>\n",
       "      <td>0.0</td>\n",
       "      <td>0.0</td>\n",
       "      <td>0.0</td>\n",
       "      <td>NA</td>\n",
       "      <td>NA</td>\n",
       "      <td>EXT_CHIEF_INVESTIGATOR</td>\n",
       "      <td>0.0</td>\n",
       "      <td>0.0</td>\n",
       "    </tr>\n",
       "    <tr>\n",
       "      <th>9</th>\n",
       "      <td>31.0</td>\n",
       "      <td>NA</td>\n",
       "      <td>more than 15</td>\n",
       "      <td>730115.0</td>\n",
       "      <td>0.0</td>\n",
       "      <td>25.0</td>\n",
       "      <td>NA</td>\n",
       "      <td>0.0</td>\n",
       "      <td>270802.0</td>\n",
       "      <td>C</td>\n",
       "      <td>...</td>\n",
       "      <td>7.0</td>\n",
       "      <td>NA</td>\n",
       "      <td>0.0</td>\n",
       "      <td>0.0</td>\n",
       "      <td>0.0</td>\n",
       "      <td>15.0</td>\n",
       "      <td>71867.0</td>\n",
       "      <td>CHIEF_INVESTIGATOR</td>\n",
       "      <td>0.0</td>\n",
       "      <td>0.0</td>\n",
       "    </tr>\n",
       "  </tbody>\n",
       "</table>\n",
       "<p>10 rows × 25 columns</p>\n",
       "</div>"
      ],
      "text/plain": [
       "    B.1 Sponsor.Code No..of.Years.in.Uni.at.Time.of.Grant.1 SEO.Code.1  \\\n",
       "0   2.0          21A                               >=0 to 5   780101.0   \n",
       "1   0.0           4D                               >=0 to 5   730112.0   \n",
       "2   2.0           NA                            Less than 0   730203.0   \n",
       "3   9.0          51C                           more than 15   730114.0   \n",
       "4   0.0          24D                            Less than 0   730108.0   \n",
       "5   0.0         288D                               >=0 to 5   730211.0   \n",
       "6   6.0          21A                               >5 to 10   749903.0   \n",
       "7   3.0           2B                           more than 15   751003.0   \n",
       "8    NA          34B                                     NA   770703.0   \n",
       "9  31.0           NA                           more than 15   730115.0   \n",
       "\n",
       "  RFCD.Code.4 Faculty.No..1 Home.Language.1 SEO.Code.4 RFCD.Code.1  \\\n",
       "0         0.0          31.0              NA        0.0    230202.0   \n",
       "1         0.0          25.0              NA        0.0    320801.0   \n",
       "2         0.0          25.0              NA        0.0    320602.0   \n",
       "3         0.0          25.0              NA        0.0    291503.0   \n",
       "4         0.0          25.0              NA        0.0    380107.0   \n",
       "5         0.0          25.0              NA        0.0    321105.0   \n",
       "6         0.0           7.0              NA        0.0    380205.0   \n",
       "7         0.0           7.0              NA        0.0    410302.0   \n",
       "8         0.0            NA              NA        0.0    270401.0   \n",
       "9         0.0          25.0              NA        0.0    270802.0   \n",
       "\n",
       "  Contract.Value.Band...see.note.A  ... A..1 Grant.Category.Code RFCD.Code.3  \\\n",
       "0                               A   ...  0.0                 50A    230204.0   \n",
       "1                               D   ...  0.0                 10A         0.0   \n",
       "2                               NA  ...  0.0                  NA    321015.0   \n",
       "3                               A   ...  5.0                 20C         0.0   \n",
       "4                               NA  ...  0.0                 30B         0.0   \n",
       "5                               A   ...  0.0                 30B         0.0   \n",
       "6                               A   ...  1.0                 50A    380102.0   \n",
       "7                               D   ...  0.0                 10A    379999.0   \n",
       "8                               A   ...   NA                 30C         0.0   \n",
       "9                               C   ...  7.0                  NA         0.0   \n",
       "\n",
       "  SEO.Code.3 SEO.Code.2   C.1 Person.ID.1                  Role.1 RFCD.Code.2  \\\n",
       "0        0.0        0.0   0.0    493297.0      CHIEF_INVESTIGATOR    230203.0   \n",
       "1        0.0        0.0   0.0    330592.0      CHIEF_INVESTIGATOR         0.0   \n",
       "2   730108.0   730105.0   0.0     66887.0      CHIEF_INVESTIGATOR    321004.0   \n",
       "3        0.0   671401.0   1.0     63812.0      CHIEF_INVESTIGATOR    321402.0   \n",
       "4        0.0   730306.0   0.0     13687.0      CHIEF_INVESTIGATOR         0.0   \n",
       "5        0.0   730302.0   2.0    574367.0      CHIEF_INVESTIGATOR         0.0   \n",
       "6   750309.0   740102.0   0.0      4762.0      CHIEF_INVESTIGATOR    379902.0   \n",
       "7   750701.0   750901.0   2.0     82442.0      CHIEF_INVESTIGATOR    420306.0   \n",
       "8        0.0        0.0    NA          NA  EXT_CHIEF_INVESTIGATOR         0.0   \n",
       "9        0.0        0.0  15.0     71867.0      CHIEF_INVESTIGATOR         0.0   \n",
       "\n",
       "  SEO.Code.5  \n",
       "0        0.0  \n",
       "1        0.0  \n",
       "2        0.0  \n",
       "3        0.0  \n",
       "4        0.0  \n",
       "5        0.0  \n",
       "6        0.0  \n",
       "7        0.0  \n",
       "8        0.0  \n",
       "9        0.0  \n",
       "\n",
       "[10 rows x 25 columns]"
      ]
     },
     "metadata": {},
     "execution_count": 33
    }
   ],
   "metadata": {}
  },
  {
   "cell_type": "markdown",
   "source": [
    "## Преобразование категориальных признаков."
   ],
   "metadata": {}
  },
  {
   "cell_type": "markdown",
   "source": [
    "В предыдущей ячейке мы разделили наш датасет ещё на две части: в одной присутствуют только вещественные признаки, в другой только категориальные. Это понадобится нам для раздельной последующей обработке этих данных, а так же для сравнения качества работы тех или иных методов.\n",
    "\n",
    "Для использования модели регрессии требуется преобразовать категориальные признаки в вещественные. Рассмотрим основной способ преоборазования категориальных признаков в вещественные: one-hot encoding. Его идея заключается в том, что мы преобразуем категориальный признак при помощи бинарного кода: каждой категории ставим в соответствие набор из нулей и единиц.\n",
    "\n",
    "Посмотрим, как данный метод работает на простом наборе данных."
   ],
   "metadata": {}
  },
  {
   "cell_type": "code",
   "execution_count": 34,
   "source": [
    "from sklearn.linear_model import LogisticRegression as LR\r\n",
    "from sklearn.feature_extraction import DictVectorizer as DV\r\n",
    "\r\n",
    "categorial_data = pd.DataFrame({'sex': ['male', 'female', 'male', 'female'], \r\n",
    "                                'nationality': ['American', 'European', 'Asian', 'European']})\r\n",
    "print('Исходные данные:\\n')\r\n",
    "print(categorial_data)\r\n",
    "encoder = DV(sparse = False)\r\n",
    "encoded_data = encoder.fit_transform(categorial_data.T.to_dict().values())\r\n",
    "print('\\nЗакодированные данные:\\n')\r\n",
    "print(encoded_data)"
   ],
   "outputs": [
    {
     "output_type": "stream",
     "name": "stdout",
     "text": [
      "Исходные данные:\n",
      "\n",
      "      sex nationality\n",
      "0    male    American\n",
      "1  female    European\n",
      "2    male       Asian\n",
      "3  female    European\n",
      "\n",
      "Закодированные данные:\n",
      "\n",
      "[[1. 0. 0. 0. 1.]\n",
      " [0. 0. 1. 1. 0.]\n",
      " [0. 1. 0. 0. 1.]\n",
      " [0. 0. 1. 1. 0.]]\n"
     ]
    }
   ],
   "metadata": {}
  },
  {
   "cell_type": "markdown",
   "source": [
    "Как видно, в первые три колонки оказалась закодированна информация о стране, а во вторые две - о поле. При этом для совпадающих элементов выборки строки будут полностью совпадать. Также из примера видно, что кодирование признаков сильно увеличивает их количество, но полностью сохраняет информацию, в том числе о наличии пропущенных значений (их наличие просто становится одним из бинарных признаков в преобразованных данных).\n",
    "\n",
    "Теперь применим one-hot encoding к категориальным признакам из исходного датасета. Обратите внимание на общий для всех методов преобработки данных интерфейс. Функция\n",
    "\n",
    "    encoder.fit_transform(X)\n",
    "    \n",
    "позволяет вычислить необходимые параметры преобразования, впоследствии к новым данным можно уже применять функцию\n",
    "\n",
    "    encoder.transform(X)\n",
    "    \n",
    "Очень важно применять одинаковое преобразование как к обучающим, так и тестовым данным, потому что в противном случае вы получите непредсказуемые, и, скорее всего, плохие результаты. В частности, если вы отдельно закодируете обучающую и тестовую выборку, то получите вообще говоря разные коды для одних и тех же признаков, и ваше решение работать не будет.\n",
    "\n",
    "Также параметры многих преобразований (например, рассмотренное ниже масштабирование) нельзя вычислять одновременно на данных из обучения и теста, потому что иначе подсчитанные на тесте метрики качества будут давать смещённые оценки на качество работы алгоритма. Кодирование категориальных признаков не считает на обучающей выборке никаких параметров, поэтому его можно применять сразу к всему датасету."
   ],
   "metadata": {}
  },
  {
   "cell_type": "code",
   "execution_count": 53,
   "source": [
    "encoder = DV(sparse = False)\r\n",
    "X_cat_oh = encoder.fit_transform(X_cat.T.to_dict().values())"
   ],
   "outputs": [],
   "metadata": {}
  },
  {
   "cell_type": "markdown",
   "source": [
    "Для построения метрики качества по результату обучения требуется разделить исходный датасет на обучающую и тестовую выборки.\n",
    "\n",
    "Обращаем внимание на заданный параметр для генератора случайных чисел: random_state. Так как результаты на обучении и тесте будут зависеть от того, как именно вы разделите объекты, то предлагается использовать заранее определённое значение для получение результатов, согласованных с ответами в системе проверки заданий."
   ],
   "metadata": {}
  },
  {
   "cell_type": "code",
   "execution_count": 63,
   "source": [
    "from sklearn.model_selection import train_test_split\r\n",
    "\r\n",
    "(X_train_real_zeros, \r\n",
    " X_test_real_zeros, \r\n",
    " y_train, y_test) = train_test_split(X_real_zeros, y, \r\n",
    "                                     test_size=0.3, \r\n",
    "                                     random_state=0)\r\n",
    "(X_train_real_mean, \r\n",
    " X_test_real_mean) = train_test_split(X_real_mean, \r\n",
    "                                      test_size=0.3, \r\n",
    "                                      random_state=0)\r\n",
    "(X_train_cat_oh,\r\n",
    " X_test_cat_oh) = train_test_split(X_cat_oh, \r\n",
    "                                   test_size=0.3, \r\n",
    "                                   random_state=0)\r\n",
    "print(X_train_cat_oh[:10])\r\n",
    "print(y_train)"
   ],
   "outputs": [
    {
     "output_type": "stream",
     "name": "stdout",
     "text": [
      "[[ 6.  0. 12. ...  0.  0.  1.]\n",
      " [ 0.  0.  0. ...  0.  1.  0.]\n",
      " [ 3.  0.  1. ...  0.  0.  1.]\n",
      " ...\n",
      " [ 0.  0.  3. ...  0.  0.  1.]\n",
      " [16.  0.  4. ...  1.  0.  1.]\n",
      " [ 0.  0.  0. ...  0.  1.  0.]]\n",
      "4831    1\n",
      "4646    0\n",
      "2154    0\n",
      "1581    0\n",
      "135     1\n",
      "       ..\n",
      "4931    1\n",
      "3264    1\n",
      "1653    1\n",
      "2607    1\n",
      "2732    1\n",
      "Name: Grant.Status, Length: 4200, dtype: int64\n"
     ]
    }
   ],
   "metadata": {}
  },
  {
   "cell_type": "code",
   "execution_count": 57,
   "source": [
    "print(X_train_real_zeros.shape)\r\n",
    "print(X_train_cat_oh.shape)"
   ],
   "outputs": [
    {
     "output_type": "stream",
     "name": "stdout",
     "text": [
      "(4200, 13)\n",
      "(4200, 351)\n"
     ]
    }
   ],
   "metadata": {}
  },
  {
   "cell_type": "markdown",
   "source": [
    "## Описание классов"
   ],
   "metadata": {}
  },
  {
   "cell_type": "markdown",
   "source": [
    "Итак, мы получили первые наборы данных, для которых выполнены оба ограничения логистической регрессии на входные данные. Обучим на них регрессию, используя имеющийся в библиотеке sklearn функционал по подбору гиперпараметров модели\n",
    "    \n",
    "    optimizer = GridSearchCV(estimator, param_grid)\n",
    "\n",
    "где:\n",
    "- estimator - обучающий алгоритм, для которого будет производиться подбор параметров\n",
    "- param_grid - словарь параметров, ключами которого являются строки-названия, которые передаются алгоритму estimator, а значения - набор параметров для перебора\n",
    "\n",
    "Данный класс выполняет кросс-валидацию обучающей выборки для каждого набора параметров и находит те, на которых алгоритм работает лучше всего. Этот метод позволяет настраивать гиперпараметры по обучающей выборке, избегая переобучения. Некоторые опциональные параметры вызова данного класса, которые нам понадобятся:\n",
    "- scoring - функционал качества, максимум которого ищется кросс валидацией, по умолчанию используется функция score() класса esimator\n",
    "- n_jobs - позволяет ускорить кросс-валидацию, выполняя её параллельно, число определяет количество одновременно запущенных задач\n",
    "- cv - количество фолдов, на которые разбивается выборка при кросс-валидации\n",
    "\n",
    "После инициализации класса GridSearchCV, процесс подбора параметров запускается следующим методом:\n",
    "\n",
    "    optimizer.fit(X, y)\n",
    "    \n",
    "На выходе для получения предсказаний можно пользоваться функцией\n",
    "\n",
    "    optimizer.predict(X)\n",
    "    \n",
    "для меток или\n",
    "\n",
    "    optimizer.predict_proba(X)\n",
    "    \n",
    "для вероятностей (в случае использования логистической регрессии).\n",
    "    \n",
    "Также можно напрямую получить оптимальный класс estimator и оптимальные параметры, так как они является атрибутами класса GridSearchCV:\n",
    "- best\\_estimator\\_ - лучший алгоритм\n",
    "- best\\_params\\_ - лучший набор параметров\n",
    "\n",
    "Класс логистической регрессии выглядит следующим образом:\n",
    "\n",
    "    estimator = LogisticRegression(penalty)\n",
    "   \n",
    "где penalty принимает либо значение 'l2', либо 'l1'. По умолчанию устанавливается значение 'l2', и везде в задании, если об этом не оговорено особо, предполагается использование логистической регрессии с L2-регуляризацией."
   ],
   "metadata": {}
  },
  {
   "cell_type": "markdown",
   "source": [
    "## Задание 1. Сравнение способов заполнения вещественных пропущенных значений.\n",
    "1. Составьте две обучающие выборки из вещественных и категориальных признаков: в одной вещественные признаки, где пропущенные значения заполнены нулями, в другой - средними. Рекомендуется записывать в выборки сначала вещественные, а потом категориальные признаки.\n",
    "2. Обучите на них логистическую регрессию, подбирая параметры из заданной сетки param_grid по методу кросс-валидации с числом фолдов cv=3. **При обучении использовать параметр solver='liblinear' в этом и последующих заданиях ноутбука.**\n",
    "3. Постройте два графика оценок точности +- их стандратного отклонения в зависимости от гиперпараметра и убедитесь, что вы действительно нашли её максимум. Также обратите внимание на большую дисперсию получаемых оценок (уменьшить её можно увеличением числа фолдов cv).\n",
    "4. Получите две метрики качества AUC ROC на тестовой выборке и сравните их между собой. Какой способ заполнения пропущенных вещественных значений работает лучше? В дальнейшем для выполнения задания в качестве вещественных признаков используйте ту выборку, которая даёт лучшее качество на тесте.\n",
    "5. Передайте два значения AUC ROC (сначала для выборки, заполненной средними, потом для выборки, заполненной нулями) в функцию write_answer_1 и запустите её. Полученный файл является ответом на 1 задание.\n",
    "\n",
    "Информация для интересующихся: вообще говоря, не вполне логично оптимизировать на кросс-валидации заданный по умолчанию в классе логистической регрессии функционал accuracy, а измерять на тесте AUC ROC, но это, как и ограничение размера выборки, сделано для ускорения работы процесса кросс-валидации."
   ],
   "metadata": {}
  },
  {
   "cell_type": "code",
   "execution_count": 67,
   "source": [
    "from sklearn.linear_model import LogisticRegression\r\n",
    "from sklearn.model_selection import GridSearchCV\r\n",
    "from sklearn.metrics import roc_auc_score\r\n",
    "\r\n",
    "def plot_scores(optimizer):\r\n",
    "    scores=[]\r\n",
    "    for i in range(len(optimizer.cv_results_['params'])):\r\n",
    "        scores.append([optimizer.cv_results_['params'][i]['C'], \r\n",
    "                optimizer.cv_results_['mean_test_score'][i],\r\n",
    "                optimizer.cv_results_['std_test_score'][i]])\r\n",
    "    scores = np.array(scores)\r\n",
    "    plt.semilogx(scores[:,0], scores[:,1])\r\n",
    "    plt.fill_between(scores[:,0], scores[:,1]-scores[:,2], \r\n",
    "                                  scores[:,1]+scores[:,2], alpha=0.3)\r\n",
    "    plt.show()\r\n",
    "    \r\n",
    "def write_answer_1(auc_1, auc_2):\r\n",
    "    auc = (auc_1 + auc_2)/2\r\n",
    "    with open(\"preprocessing_lr_answer1.txt\", \"w\") as fout:\r\n",
    "        fout.write(str(auc))\r\n",
    "        \r\n",
    "param_grid = {'C': [0.01, 0.05, 0.1, 0.5, 1, 5, 10]}\r\n",
    "cv = 3\r\n",
    "\r\n",
    "X_train_mean = np.hstack((X_train_real_mean, X_train_cat_oh))\r\n",
    "X_train_zeros = np.hstack((X_train_real_zeros, X_train_cat_oh))\r\n",
    "X_test_mean = np.hstack((X_test_real_mean, X_test_cat_oh))\r\n",
    "X_test_zeros = np.hstack((X_test_real_zeros, X_test_cat_oh))\r\n",
    "print(X_train_zeros.shape, X_test_zeros.shape)"
   ],
   "outputs": [
    {
     "output_type": "stream",
     "name": "stdout",
     "text": [
      "(4200, 364) (1800, 364)\n"
     ]
    }
   ],
   "metadata": {}
  },
  {
   "cell_type": "code",
   "execution_count": 74,
   "source": [
    "\r\n",
    "estimator = LogisticRegression(solver='liblinear')\r\n",
    "optimizer_zeros = GridSearchCV(estimator, param_grid, cv = cv)\r\n",
    "optimizer_mean = GridSearchCV(estimator, param_grid, cv = cv)\r\n",
    "\r\n",
    "optimizer_zeros.fit(X_train_zeros, y_train)\r\n",
    "prob_zeros = optimizer_zeros.predict_proba(X_test_zeros)\r\n",
    "\r\n",
    "optimizer_mean.fit(X_train_mean, y_train)\r\n",
    "prob_mean = optimizer_mean.predict_proba(X_test_mean)"
   ],
   "outputs": [],
   "metadata": {}
  },
  {
   "cell_type": "code",
   "execution_count": 73,
   "source": [
    "plot_scores(optimizer_mean)\r\n",
    "plot_scores(optimizer_zeros)\r\n"
   ],
   "outputs": [
    {
     "output_type": "display_data",
     "data": {
      "image/png": "[encoded data removed]",
      "text/plain": [
       "<Figure size 432x288 with 1 Axes>"
      ]
     },
     "metadata": {
      "needs_background": "light"
     }
    },
    {
     "output_type": "display_data",
     "data": {
      "image/png": "[encoded data removed]",
      "text/plain": [
       "<Figure size 432x288 with 1 Axes>"
      ]
     },
     "metadata": {
      "needs_background": "light"
     }
    }
   ],
   "metadata": {}
  },
  {
   "cell_type": "code",
   "execution_count": 82,
   "source": [
    "auc_mean = roc_auc_score(y_test, prob_mean[:, 1])\r\n",
    "auc_zeros = roc_auc_score(y_test, prob_zeros[:, 1])\r\n",
    "print(auc_mean, auc_zeros)\r\n",
    "write_answer_1(auc_mean, auc_zeros)"
   ],
   "outputs": [
    {
     "output_type": "stream",
     "name": "stdout",
     "text": [
      "0.5567690938945815 0.564619112022382\n"
     ]
    }
   ],
   "metadata": {}
  },
  {
   "cell_type": "code",
   "execution_count": 81,
   "source": [
    "print(prob_mean.shape)"
   ],
   "outputs": [
    {
     "output_type": "stream",
     "name": "stdout",
     "text": [
      "(1800, 2)\n"
     ]
    }
   ],
   "metadata": {}
  },
  {
   "cell_type": "markdown",
   "source": [
    "## Масштабирование вещественных признаков."
   ],
   "metadata": {}
  },
  {
   "cell_type": "markdown",
   "source": [
    "Попробуем как-то улучшить качество классификации. Для этого посмотрим на сами данные:"
   ],
   "metadata": {}
  },
  {
   "cell_type": "code",
   "execution_count": null,
   "source": [
    "from pandas.plotting import scatter_matrix\r\n",
    "\r\n",
    "data_numeric = pd.DataFrame(X_train_real_zeros, columns=numeric_cols)\r\n",
    "list_cols = ['Number.of.Successful.Grant.1', 'SEO.Percentage.2', 'Year.of.Birth.1']\r\n",
    "scatter_matrix(data_numeric[list_cols], alpha=0.5, figsize=(10, 10))\r\n",
    "plt.show()"
   ],
   "outputs": [],
   "metadata": {}
  },
  {
   "cell_type": "markdown",
   "source": [
    "Как видно из графиков, разные признаки очень сильно отличаются друг от друга по модулю значений (обратите внимание на диапазоны значений осей x и y). В случае обычной регрессии это никак не влияет на качество обучаемой модели, т.к. у меньших по модулю признаков будут большие веса, но при использовании регуляризации, которая штрафует модель за большие веса, регрессия, как правило, начинает работать хуже.\n",
    "\n",
    "В таких случаях всегда рекомендуется делать стандартизацию (масштабирование) признаков, для того чтобы они меньше отличались друг друга по модулю, но при этом не нарушались никакие другие свойства признакового пространства. При этом даже если итоговое качество модели на тесте уменьшается, это повышает её интерпретабельность, потому что новые веса имеют смысл \"значимости\" данного признака для итоговой классификации.\n",
    "\n",
    "Стандартизация осуществляется посредством вычета из каждого признака среднего значения и нормировки на выборочное стандартное отклонение:\n",
    "\n",
    "$$ x^{scaled}_{id} = \\dfrac{x_{id} - \\mu_d}{\\sigma_d}, \\quad \\mu_d = \\frac{1}{N} \\sum_{i=1}^l x_{id}, \\quad \\sigma_d = \\sqrt{\\frac{1}{N-1} \\sum_{i=1}^l (x_{id} - \\mu_d)^2} $$"
   ],
   "metadata": {}
  },
  {
   "cell_type": "markdown",
   "source": [
    "## Задание 1.5. Масштабирование вещественных признаков.\n",
    "\n",
    "1. По аналогии с вызовом one-hot encoder примените масштабирование вещественных признаков для обучающих и тестовых выборок X_train_real_zeros и X_test_real_zeros, используя класс \n",
    "\n",
    "        StandardScaler\n",
    "   \n",
    "   и методы \n",
    "\n",
    "        StandardScaler.fit_transform(...)\n",
    "        StandardScaler.transform(...)\n",
    "2. Сохраните ответ в переменные X_train_real_scaled и X_test_real_scaled соответственно"
   ],
   "metadata": {}
  },
  {
   "cell_type": "code",
   "execution_count": null,
   "source": [
    "from sklearn.preprocessing import StandardScaler\r\n",
    "\r\n",
    "# place your code here"
   ],
   "outputs": [],
   "metadata": {}
  },
  {
   "cell_type": "markdown",
   "source": [
    "## Сравнение признаковых пространств."
   ],
   "metadata": {}
  },
  {
   "cell_type": "markdown",
   "source": [
    "Построим такие же графики для преобразованных данных:"
   ],
   "metadata": {}
  },
  {
   "cell_type": "code",
   "execution_count": null,
   "source": [
    "data_numeric_scaled = pd.DataFrame(X_train_real_scaled, columns=numeric_cols)\r\n",
    "list_cols = ['Number.of.Successful.Grant.1', 'SEO.Percentage.2', 'Year.of.Birth.1']\r\n",
    "scatter_matrix(data_numeric_scaled[list_cols], alpha=0.5, figsize=(10, 10))\r\n",
    "plt.show()"
   ],
   "outputs": [],
   "metadata": {}
  },
  {
   "cell_type": "markdown",
   "source": [
    "Как видно из графиков, мы не поменяли свойства признакового пространства: гистограммы распределений значений признаков, как и их scatter-plots, выглядят так же, как и до нормировки, но при этом все значения теперь находятся примерно в одном диапазоне, тем самым повышая интерпретабельность результатов, а также лучше сочетаясь с идеологией регуляризации."
   ],
   "metadata": {}
  },
  {
   "cell_type": "markdown",
   "source": [
    "## Задание 2. Сравнение качества классификации до и после масштабирования вещественных признаков.\n",
    "1. Обучите ещё раз регрессию и гиперпараметры на новых признаках, объединив их с закодированными категориальными.\n",
    "2. Проверьте, был ли найден оптимум accuracy по гиперпараметрам во время кроссвалидации.\n",
    "3. Получите значение ROC AUC на тестовой выборке, сравните с лучшим результатом, полученными ранее.\n",
    "4. Запишите полученный ответ в файл при помощи функции write_answer_2."
   ],
   "metadata": {}
  },
  {
   "cell_type": "code",
   "execution_count": null,
   "source": [
    "def write_answer_2(auc):\r\n",
    "    with open(\"preprocessing_lr_answer2.txt\", \"w\") as fout:\r\n",
    "        fout.write(str(auc))\r\n",
    "        \r\n",
    "# place your code here"
   ],
   "outputs": [],
   "metadata": {}
  },
  {
   "cell_type": "markdown",
   "source": [
    "## Балансировка классов."
   ],
   "metadata": {}
  },
  {
   "cell_type": "markdown",
   "source": [
    "Алгоритмы классификации могут быть очень чувствительны к несбалансированным классам. Рассмотрим пример с выборками, сэмплированными из двух гауссиан. Их мат. ожидания и матрицы ковариации заданы так, что истинная разделяющая поверхность должна проходить параллельно оси x. Поместим в обучающую выборку 20 объектов, сэмплированных из 1-й гауссианы, и 10 объектов из 2-й. После этого обучим на них линейную регрессию, и построим на графиках объекты и области классификации."
   ],
   "metadata": {}
  },
  {
   "cell_type": "code",
   "execution_count": null,
   "source": [
    "np.random.seed(0)\r\n",
    "\"\"\"Сэмплируем данные из первой гауссианы\"\"\"\r\n",
    "data_0 = np.random.multivariate_normal([0,0], [[0.5,0],[0,0.5]], size=40)\r\n",
    "\"\"\"И из второй\"\"\"\r\n",
    "data_1 = np.random.multivariate_normal([0,1], [[0.5,0],[0,0.5]], size=40)\r\n",
    "\"\"\"На обучение берём 20 объектов из первого класса и 10 из второго\"\"\"\r\n",
    "example_data_train = np.vstack([data_0[:20,:], data_1[:10,:]])\r\n",
    "example_labels_train = np.concatenate([np.zeros((20)), np.ones((10))])\r\n",
    "\"\"\"На тест - 20 из первого и 30 из второго\"\"\"\r\n",
    "example_data_test = np.vstack([data_0[20:,:], data_1[10:,:]])\r\n",
    "example_labels_test = np.concatenate([np.zeros((20)), np.ones((30))])\r\n",
    "\"\"\"Задаём координатную сетку, на которой будем вычислять область классификации\"\"\"\r\n",
    "xx, yy = np.meshgrid(np.arange(-3, 3, 0.02), np.arange(-3, 3, 0.02))\r\n",
    "\"\"\"Обучаем регрессию без балансировки по классам\"\"\"\r\n",
    "optimizer = GridSearchCV(LogisticRegression(), param_grid, cv=cv, n_jobs=-1)\r\n",
    "optimizer.fit(example_data_train, example_labels_train)\r\n",
    "\"\"\"Строим предсказания регрессии для сетки\"\"\"\r\n",
    "Z = optimizer.predict(np.c_[xx.ravel(), yy.ravel()]).reshape(xx.shape)\r\n",
    "plt.pcolormesh(xx, yy, Z, cmap=plt.cm.Pastel2)\r\n",
    "plt.scatter(data_0[:,0], data_0[:,1], color='red')\r\n",
    "plt.scatter(data_1[:,0], data_1[:,1], color='blue')\r\n",
    "\"\"\"Считаем AUC\"\"\"\r\n",
    "auc_wo_class_weights = roc_auc_score(example_labels_test, optimizer.predict_proba(example_data_test)[:,1])\r\n",
    "plt.title('Without class weights')\r\n",
    "plt.show()\r\n",
    "print('AUC: %f'%auc_wo_class_weights)\r\n",
    "\"\"\"Для второй регрессии в LogisticRegression передаём параметр class_weight='balanced'\"\"\"\r\n",
    "optimizer = GridSearchCV(LogisticRegression(class_weight='balanced'), param_grid, cv=cv, n_jobs=-1)\r\n",
    "optimizer.fit(example_data_train, example_labels_train)\r\n",
    "Z = optimizer.predict(np.c_[xx.ravel(), yy.ravel()]).reshape(xx.shape)\r\n",
    "plt.pcolormesh(xx, yy, Z, cmap=plt.cm.Pastel2)\r\n",
    "plt.scatter(data_0[:,0], data_0[:,1], color='red')\r\n",
    "plt.scatter(data_1[:,0], data_1[:,1], color='blue')\r\n",
    "auc_w_class_weights = roc_auc_score(example_labels_test, optimizer.predict_proba(example_data_test)[:,1])\r\n",
    "plt.title('With class weights')\r\n",
    "plt.show()\r\n",
    "print('AUC: %f'%auc_w_class_weights)"
   ],
   "outputs": [],
   "metadata": {}
  },
  {
   "cell_type": "markdown",
   "source": [
    "Как видно, во втором случае классификатор находит разделяющую поверхность, которая ближе к истинной, т.е. меньше переобучается. Поэтому на сбалансированность классов в обучающей выборке всегда следует обращать внимание.\n",
    "\n",
    "Посмотрим, сбалансированны ли классы в нашей обучающей выборке:"
   ],
   "metadata": {}
  },
  {
   "cell_type": "code",
   "execution_count": null,
   "source": [
    "print(np.sum(y_train==0))\r\n",
    "print(np.sum(y_train==1))"
   ],
   "outputs": [],
   "metadata": {}
  },
  {
   "cell_type": "markdown",
   "source": [
    "Видно, что нет.\n",
    "\n",
    "Исправить ситуацию можно разными способами, мы рассмотрим два:\n",
    "- давать объектам миноритарного класса больший вес при обучении классификатора (рассмотрен в примере выше)\n",
    "- досэмплировать объекты миноритарного класса, пока число объектов в обоих классах не сравняется"
   ],
   "metadata": {}
  },
  {
   "cell_type": "markdown",
   "source": [
    "## Задание 3. Балансировка классов.\n",
    "1. Обучите логистическую регрессию и гиперпараметры с балансировкой классов, используя веса (параметр class_weight='balanced' регрессии) на отмасштабированных выборках, полученных в предыдущем задании. Убедитесь, что вы нашли максимум accuracy по гиперпараметрам.\n",
    "2. Получите метрику ROC AUC на тестовой выборке.\n",
    "3. Сбалансируйте выборку, досэмплировав в неё объекты из меньшего класса. Для получения индексов объектов, которые требуется добавить в обучающую выборку, используйте следующую комбинацию вызовов функций:\n",
    "        np.random.seed(0)\n",
    "        indices_to_add = np.random.randint(...)\n",
    "        X_train_to_add = X_train[y_train.as_matrix() == 1,:][indices_to_add,:]\n",
    "   После этого добавьте эти объекты в начало или конец обучающей выборки. Дополните соответствующим      образом вектор ответов.\n",
    "4. Получите метрику ROC AUC на тестовой выборке, сравните с предыдущим результатом.\n",
    "5. Внесите ответы в выходной файл при помощи функции write_asnwer_3, передав в неё сначала ROC AUC для балансировки весами, а потом балансировки выборки вручную."
   ],
   "metadata": {}
  },
  {
   "cell_type": "code",
   "execution_count": null,
   "source": [
    "def write_answer_3(auc_1, auc_2):\r\n",
    "    auc = (auc_1 + auc_2) / 2\r\n",
    "    with open(\"preprocessing_lr_answer3.txt\", \"w\") as fout:\r\n",
    "        fout.write(str(auc))\r\n",
    "        \r\n",
    "# place your code here"
   ],
   "outputs": [],
   "metadata": {}
  },
  {
   "cell_type": "markdown",
   "source": [
    "## Стратификация выборок."
   ],
   "metadata": {}
  },
  {
   "cell_type": "markdown",
   "source": [
    "Рассмотрим ещё раз пример с выборками из нормальных распределений. Посмотрим ещё раз на качество классификаторов, получаемое на тестовых выборках:"
   ],
   "metadata": {}
  },
  {
   "cell_type": "code",
   "execution_count": null,
   "source": [
    "print('AUC ROC for classifier without weighted classes', auc_wo_class_weights)\r\n",
    "print('AUC ROC for classifier with weighted classes: ', auc_w_class_weights)"
   ],
   "outputs": [],
   "metadata": {}
  },
  {
   "cell_type": "markdown",
   "source": [
    "Насколько эти цифры реально отражают качество работы алгоритма, если учесть, что тестовая выборка так же несбалансирована, как обучающая? При этом мы уже знаем, что алгоритм логистический регрессии чувствителен к балансировке классов в обучающей выборке, т.е. в данном случае на тесте он будет давать заведомо заниженные результаты. Метрика классификатора на тесте имела бы гораздо больший смысл, если бы объекты были разделы в выборках поровну: по 20 из каждого класса на обучени и на тесте. Переформируем выборки и подсчитаем новые ошибки:"
   ],
   "metadata": {}
  },
  {
   "cell_type": "code",
   "execution_count": null,
   "source": [
    "\"\"\"Разделим данные по классам поровну между обучающей и тестовой выборками\"\"\"\r\n",
    "example_data_train = np.vstack([data_0[:20,:], data_1[:20,:]])\r\n",
    "example_labels_train = np.concatenate([np.zeros((20)), np.ones((20))])\r\n",
    "example_data_test = np.vstack([data_0[20:,:], data_1[20:,:]])\r\n",
    "example_labels_test = np.concatenate([np.zeros((20)), np.ones((20))])\r\n",
    "\"\"\"Обучим классификатор\"\"\"\r\n",
    "optimizer = GridSearchCV(LogisticRegression(class_weight='balanced'), param_grid, cv=cv, n_jobs=-1)\r\n",
    "optimizer.fit(example_data_train, example_labels_train)\r\n",
    "Z = optimizer.predict(np.c_[xx.ravel(), yy.ravel()]).reshape(xx.shape)\r\n",
    "plt.pcolormesh(xx, yy, Z, cmap=plt.cm.Pastel2)\r\n",
    "plt.scatter(data_0[:,0], data_0[:,1], color='red')\r\n",
    "plt.scatter(data_1[:,0], data_1[:,1], color='blue')\r\n",
    "auc_stratified = roc_auc_score(example_labels_test, optimizer.predict_proba(example_data_test)[:,1])\r\n",
    "plt.title('With class weights')\r\n",
    "plt.show()\r\n",
    "print('AUC ROC for stratified samples: ', auc_stratified)"
   ],
   "outputs": [],
   "metadata": {}
  },
  {
   "cell_type": "markdown",
   "source": [
    "Как видно, после данной процедуры ответ классификатора изменился незначительно, а вот качество увеличилось. При этом, в зависимости от того, как вы разбили изначально данные на обучение и тест, после сбалансированного разделения выборок итоговая метрика на тесте может как увеличиться, так и уменьшиться, но доверять ей можно значительно больше, т.к. она построена с учётом специфики работы классификатора. Данный подход является частным случаем т.н. метода стратификации."
   ],
   "metadata": {}
  },
  {
   "cell_type": "markdown",
   "source": [
    "## Задание 4. Стратификация выборки.\n",
    "\n",
    "1. По аналогии с тем, как это было сделано в начале задания, разбейте выборки X_real_zeros и X_cat_oh на обучение и тест, передавая в функцию \n",
    "        train_test_split(...)\n",
    "   дополнительно параметр \n",
    "       stratify=y\n",
    "   Также обязательно передайте в функцию переменную random_state=0.\n",
    "2. Выполните масштабирование новых вещественных выборок, обучите классификатор и его гиперпараметры при помощи метода кросс-валидации, делая поправку на несбалансированные классы при помощи весов. Убедитесь в том, что нашли оптимум accuracy по гиперпараметрам.\n",
    "3. Оцените качество классификатора метрике AUC ROC на тестовой выборке.\n",
    "4. Полученный ответ передайте функции write_answer_4"
   ],
   "metadata": {}
  },
  {
   "cell_type": "code",
   "execution_count": null,
   "source": [
    "def write_answer_4(auc):\r\n",
    "    with open(\"preprocessing_lr_answer4.txt\", \"w\") as fout:\r\n",
    "        fout.write(str(auc))\r\n",
    "        \r\n",
    "# place your code here"
   ],
   "outputs": [],
   "metadata": {}
  },
  {
   "cell_type": "markdown",
   "source": [
    "Теперь вы разобрались с основными этапами предобработки данных для линейных классификаторов.\n",
    "Напомним основные этапы:\n",
    "- обработка пропущенных значений\n",
    "- обработка категориальных признаков\n",
    "- стратификация\n",
    "- балансировка классов\n",
    "- масштабирование\n",
    "\n",
    "Данные действия с данными рекомендуется проводить всякий раз, когда вы планируете использовать линейные методы. Рекомендация по выполнению многих из этих пунктов справедлива и для других методов машинного обучения."
   ],
   "metadata": {}
  },
  {
   "cell_type": "markdown",
   "source": [
    "## Трансформация признаков.\n",
    "\n",
    "Теперь рассмотрим способы преобразования признаков. Существует достаточно много различных способов трансформации признаков, которые позволяют при помощи линейных методов получать более сложные разделяющие поверхности. Самым базовым является полиномиальное преобразование признаков. Его идея заключается в том, что помимо самих признаков вы дополнительно включаете набор все полиномы степени $p$, которые можно из них построить. Для случая $p=2$ преобразование выглядит следующим образом:\n",
    "\n",
    "$$ \\phi(x_i) = [x_{i,1}^2, ..., x_{i,D}^2, x_{i,1}x_{i,2}, ..., x_{i,D} x_{i,D-1}, x_{i,1}, ..., x_{i,D}, 1] $$\n",
    "\n",
    "Рассмотрим принцип работы данных признаков на данных, сэмплированных их гауссиан:"
   ],
   "metadata": {}
  },
  {
   "cell_type": "code",
   "execution_count": null,
   "source": [
    "from sklearn.preprocessing import PolynomialFeatures\r\n",
    "\r\n",
    "\"\"\"Инициализируем класс, который выполняет преобразование\"\"\"\r\n",
    "transform = PolynomialFeatures(2)\r\n",
    "\"\"\"Обучаем преобразование на обучающей выборке, применяем его к тестовой\"\"\"\r\n",
    "example_data_train_poly = transform.fit_transform(example_data_train)\r\n",
    "example_data_test_poly = transform.transform(example_data_test)\r\n",
    "\"\"\"Обращаем внимание на параметр fit_intercept=False\"\"\"\r\n",
    "optimizer = GridSearchCV(LogisticRegression(class_weight='balanced', fit_intercept=False), param_grid, cv=cv, n_jobs=-1)\r\n",
    "optimizer.fit(example_data_train_poly, example_labels_train)\r\n",
    "Z = optimizer.predict(transform.transform(np.c_[xx.ravel(), yy.ravel()])).reshape(xx.shape)\r\n",
    "plt.pcolormesh(xx, yy, Z, cmap=plt.cm.Pastel2)\r\n",
    "plt.scatter(data_0[:,0], data_0[:,1], color='red')\r\n",
    "plt.scatter(data_1[:,0], data_1[:,1], color='blue')\r\n",
    "plt.title('With class weights')\r\n",
    "plt.show()"
   ],
   "outputs": [],
   "metadata": {}
  },
  {
   "cell_type": "markdown",
   "source": [
    "Видно, что данный метод преобразования данных уже позволяет строить нелинейные разделяющие поверхности, которые могут более тонко подстраиваться под данные и находить более сложные зависимости. Число признаков в новой модели:"
   ],
   "metadata": {}
  },
  {
   "cell_type": "code",
   "execution_count": null,
   "source": [
    "print(example_data_train_poly.shape)"
   ],
   "outputs": [],
   "metadata": {}
  },
  {
   "cell_type": "markdown",
   "source": [
    "Но при этом одновременно данный метод способствует более сильной способности модели к переобучению из-за быстрого роста числа признаком с увеличением степени $p$. Рассмотрим пример с $p=11$:"
   ],
   "metadata": {}
  },
  {
   "cell_type": "code",
   "execution_count": null,
   "source": [
    "transform = PolynomialFeatures(11)\r\n",
    "example_data_train_poly = transform.fit_transform(example_data_train)\r\n",
    "example_data_test_poly = transform.transform(example_data_test)\r\n",
    "optimizer = GridSearchCV(LogisticRegression(class_weight='balanced', fit_intercept=False), param_grid, cv=cv, n_jobs=-1)\r\n",
    "optimizer.fit(example_data_train_poly, example_labels_train)\r\n",
    "Z = optimizer.predict(transform.transform(np.c_[xx.ravel(), yy.ravel()])).reshape(xx.shape)\r\n",
    "plt.pcolormesh(xx, yy, Z, cmap=plt.cm.Pastel2)\r\n",
    "plt.scatter(data_0[:,0], data_0[:,1], color='red')\r\n",
    "plt.scatter(data_1[:,0], data_1[:,1], color='blue')\r\n",
    "plt.title('Corrected class weights')\r\n",
    "plt.show()"
   ],
   "outputs": [],
   "metadata": {}
  },
  {
   "cell_type": "markdown",
   "source": [
    "Количество признаков в данной модели:"
   ],
   "metadata": {}
  },
  {
   "cell_type": "code",
   "execution_count": null,
   "source": [
    "print(example_data_train_poly.shape)"
   ],
   "outputs": [],
   "metadata": {}
  },
  {
   "cell_type": "markdown",
   "source": [
    "## Задание 5. Трансформация вещественных признаков.\n",
    "\n",
    "1. Реализуйте по аналогии с примером преобразование вещественных признаков модели при помощи полиномиальных признаков степени 2\n",
    "2. Постройте логистическую регрессию на новых данных, одновременно подобрав оптимальные гиперпараметры. Обращаем внимание, что в преобразованных признаках уже присутствует столбец, все значения которого равны 1, поэтому обучать дополнительно значение $b$ не нужно, его функцию выполняет один из весов $w$. В связи с этим во избежание линейной зависимости в датасете, в вызов класса логистической регрессии требуется передавать параметр fit_intercept=False. Для обучения используйте стратифицированные выборки с балансировкой классов при помощи весов, преобразованные признаки требуется заново отмасштабировать.\n",
    "3. Получите AUC ROC на тесте и сравните данный результат с использованием обычных признаков.\n",
    "4. Передайте полученный ответ в функцию write_answer_5."
   ],
   "metadata": {}
  },
  {
   "cell_type": "code",
   "execution_count": null,
   "source": [
    "def write_answer_5(auc):\n",
    "    with open(\"preprocessing_lr_answer5.txt\", \"w\") as fout:\n",
    "        fout.write(str(auc))\n",
    "        \n",
    "# place your code here"
   ],
   "outputs": [],
   "metadata": {}
  },
  {
   "cell_type": "markdown",
   "source": [
    "## Регрессия Lasso.\n",
    "К логистической регрессии также можно применить L1-регуляризацию (Lasso), вместо регуляризации L2, которая будет приводить к отбору признаков. Вам предлагается применить L1-регуляцию к исходным признакам и проинтерпретировать полученные результаты (применение отбора признаков к полиномиальным так же можно успешно применять, но в нём уже будет отсутствовать компонента интерпретации, т.к. смысловое значение оригинальных признаков известно, а полиномиальных - уже может быть достаточно нетривиально). Для вызова логистической регрессии с L1-регуляризацией достаточно передать параметр penalty='l1' в инициализацию класса."
   ],
   "metadata": {}
  },
  {
   "cell_type": "markdown",
   "source": [
    "## Задание 6. Отбор признаков при помощи регрессии Lasso.\n",
    "1. Обучите регрессию Lasso на стратифицированных отмасштабированных выборках, используя балансировку классов при помощи весов. Для задания используем X_train_real_zeros.\n",
    "2. Получите ROC AUC регрессии, сравните его с предыдущими результатами.\n",
    "3. Найдите номера вещественных признаков, которые имеют нулевые веса в итоговой модели.\n",
    "4. Передайте их список функции write_answer_6."
   ],
   "metadata": {}
  },
  {
   "cell_type": "code",
   "execution_count": null,
   "source": [
    "def write_answer_6(features):\n",
    "    with open(\"preprocessing_lr_answer6.txt\", \"w\") as fout:\n",
    "        fout.write(\" \".join([str(num) for num in features]))\n",
    "        \n",
    "# place your code here"
   ],
   "outputs": [],
   "metadata": {}
  }
 ],
 "metadata": {
  "kernelspec": {
   "name": "python3",
   "display_name": "Python 3.9.7 64-bit"
  },
  "language_info": {
   "codemirror_mode": {
    "name": "ipython",
    "version": 3
   },
   "file_extension": ".py",
   "mimetype": "text/x-python",
   "name": "python",
   "nbconvert_exporter": "python",
   "pygments_lexer": "ipython3",
   "version": "3.9.7"
  },
  "interpreter": {
   "hash": "66192696da2d2b70fb41e7bd0b6d56aa34ef93b78c1c09f382cf8ad7952253ed"
  }
 },
 "nbformat": 4,
 "nbformat_minor": 1
}